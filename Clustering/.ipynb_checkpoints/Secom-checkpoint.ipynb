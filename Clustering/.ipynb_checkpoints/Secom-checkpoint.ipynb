{
 "cells": [
  {
   "cell_type": "markdown",
   "metadata": {},
   "source": [
    "# Building a classifier with Clustering"
   ]
  },
  {
   "cell_type": "markdown",
   "metadata": {},
   "source": [
    "### Clustering"
   ]
  },
  {
   "cell_type": "markdown",
   "metadata": {},
   "source": [
    "Cluster analysis or clustering is the task of grouping a set of objects in such a way that objects in the same group (called a cluster) are more similar (in some sense) to each other than to those in other groups (clusters).\n",
    "It can be considered the most important unsupervised learning problem and as every other problem of this kind, it deals with finding a structure in a collection of unlabeled data.\n",
    "There is no universal definition of what a cluster is: it really depends on the context, and different algorithms will capture different kind of clusters.\n",
    "Some algorithms look for instances centered around a particular point, called a centroid, other look for continuous regions of densely packed instances and they can take on any shape, and other are hierarchical, looking for clusters of clusters."
   ]
  },
  {
   "cell_type": "markdown",
   "metadata": {},
   "source": [
    "### Goal of the project"
   ]
  },
  {
   "cell_type": "markdown",
   "metadata": {},
   "source": [
    "So many different clustering algorithms have been developed, but each of them only captures some aspects of the clusters. These aspects include the size, shape, density, hierarchy, overlapping or disjointness of cluster, as well as detecting outliers or noise. Thus, there is no ‘true’ clustering algorithm.\n",
    "In this project we'll try some of the most important clustering methods (K-Means, DBSCAN, Hierarchical Clustering) and then we'll evaluate the models' performance with labelled data.\n",
    "\"Aggiungere che clustering nn è buono per labelled data ma lo vogliamo usare per studiare gli algoritmi di clustering\""
   ]
  }
 ],
 "metadata": {
  "kernelspec": {
   "display_name": "Python 3",
   "language": "python",
   "name": "python3"
  },
  "language_info": {
   "codemirror_mode": {
    "name": "ipython",
    "version": 3
   },
   "file_extension": ".py",
   "mimetype": "text/x-python",
   "name": "python",
   "nbconvert_exporter": "python",
   "pygments_lexer": "ipython3",
   "version": "3.7.7"
  }
 },
 "nbformat": 4,
 "nbformat_minor": 4
}
