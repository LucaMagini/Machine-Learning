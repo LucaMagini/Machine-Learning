{
 "cells": [
  {
   "cell_type": "markdown",
   "metadata": {
    "collapsed": true
   },
   "source": [
    "# Predicting Bike Rentals"
   ]
  },
  {
   "cell_type": "markdown",
   "metadata": {
    "collapsed": true
   },
   "source": [
    "A bike rental business rents out bicycles for short periods of time, usually for a few hours. Bicycle rental shop primarily serve people who don't have access to a vehicle, tipically travellers and particularly tourists. Most rentals are provided by bike shops as a sideline to their main business of sales and service, but some shops specialize in rentals.\n",
    "\n",
    "Many American cities have communal bike sharing stations where you can rent bicycles by the hour or day. Washington, D.C. is one of these cities. The district collects detailed data on the number of bicycles people rent by the hour and day.\n",
    "\n",
    "In this project, we'll try to predict the total number of bikes people rented in a given hour. To accomplish this, we'll create a few different machine learning models and evaluate their performance. When possible we'll be using a fixed seed for random algorithms to make the test reproducible."
   ]
  },
  {
   "cell_type": "markdown",
   "metadata": {},
   "source": [
    "## Introduction to the Data Set"
   ]
  },
  {
   "cell_type": "markdown",
   "metadata": {},
   "source": [
    "Hadi Fanaee-T at the University of Porto compiled this data into a CSV file, which we'll use in this project. The file contains 17380 rows, with each row representing the number of bike rentals for a single hour of a single day. You can download the data from the [University of California, Irvine's website](http://archive.ics.uci.edu/ml/datasets/Bike+Sharing+Dataset). \n",
    "\n",
    "These are the descriptions for all the columns :\n",
    "\n",
    "* *instant* - A unique sequential ID number for each row\n",
    "* *dteday* - The date of the rentals\n",
    "* *season* - The season in which the rentals occurred\n",
    "* *yr* - The year the rentals occurred\n",
    "* *mnth* - The month the rentals occurred\n",
    "* *hr* - The hour the rentals occurred\n",
    "* *holiday* - Whether or not the day was a holiday\n",
    "* *weekday* - The day of the week (as a number, 0 to 7)\n",
    "* *workingday* - Whether or not the day was a working day\n",
    "* *weathersit* - The weather (as a categorical variable)\n",
    "* *temp* - The temperature, on a 0-1 scale\n",
    "* *atemp* - The adjusted temperature\n",
    "* *hum* - The humidity, on a 0-1 scale\n",
    "* *windspeed* - The wind speed, on a 0-1 scale\n",
    "* *casual* - The number of casual riders (people who hadn't previously signed up with the bike sharing program)\n",
    "* *registered* - The number of registered riders (people who had already signed up)\n",
    "* *cnt* - The total number of bike rentals (*casual* + *registered*)\n",
    "\n",
    "Let's have a look at the data."
   ]
  },
  {
   "cell_type": "code",
   "execution_count": 2,
   "metadata": {},
   "outputs": [
    {
     "name": "stdout",
     "output_type": "stream",
     "text": [
      "<class 'pandas.core.frame.DataFrame'>\n",
      "RangeIndex: 17379 entries, 0 to 17378\n",
      "Data columns (total 17 columns):\n",
      "instant       17379 non-null int64\n",
      "dteday        17379 non-null object\n",
      "season        17379 non-null int64\n",
      "yr            17379 non-null int64\n",
      "mnth          17379 non-null int64\n",
      "hr            17379 non-null int64\n",
      "holiday       17379 non-null int64\n",
      "weekday       17379 non-null int64\n",
      "workingday    17379 non-null int64\n",
      "weathersit    17379 non-null int64\n",
      "temp          17379 non-null float64\n",
      "atemp         17379 non-null float64\n",
      "hum           17379 non-null float64\n",
      "windspeed     17379 non-null float64\n",
      "casual        17379 non-null int64\n",
      "registered    17379 non-null int64\n",
      "cnt           17379 non-null int64\n",
      "dtypes: float64(4), int64(12), object(1)\n",
      "memory usage: 2.3+ MB\n"
     ]
    }
   ],
   "source": [
    "#Importing the library\n",
    "import pandas as pd\n",
    "\n",
    "#Reading the data into a dataframe\n",
    "bike_rentals = pd.read_csv(\"bike_rental_hour.csv\")\n",
    "\n",
    "#Showing some info about the dataframe\n",
    "bike_rentals.info()"
   ]
  },
  {
   "cell_type": "code",
   "execution_count": 3,
   "metadata": {},
   "outputs": [
    {
     "data": {
      "text/html": [
       "<div>\n",
       "<style scoped>\n",
       "    .dataframe tbody tr th:only-of-type {\n",
       "        vertical-align: middle;\n",
       "    }\n",
       "\n",
       "    .dataframe tbody tr th {\n",
       "        vertical-align: top;\n",
       "    }\n",
       "\n",
       "    .dataframe thead th {\n",
       "        text-align: right;\n",
       "    }\n",
       "</style>\n",
       "<table border=\"1\" class=\"dataframe\">\n",
       "  <thead>\n",
       "    <tr style=\"text-align: right;\">\n",
       "      <th></th>\n",
       "      <th>instant</th>\n",
       "      <th>dteday</th>\n",
       "      <th>season</th>\n",
       "      <th>yr</th>\n",
       "      <th>mnth</th>\n",
       "      <th>hr</th>\n",
       "      <th>holiday</th>\n",
       "      <th>weekday</th>\n",
       "      <th>workingday</th>\n",
       "      <th>weathersit</th>\n",
       "      <th>temp</th>\n",
       "      <th>atemp</th>\n",
       "      <th>hum</th>\n",
       "      <th>windspeed</th>\n",
       "      <th>casual</th>\n",
       "      <th>registered</th>\n",
       "      <th>cnt</th>\n",
       "    </tr>\n",
       "  </thead>\n",
       "  <tbody>\n",
       "    <tr>\n",
       "      <td>0</td>\n",
       "      <td>1</td>\n",
       "      <td>2011-01-01</td>\n",
       "      <td>1</td>\n",
       "      <td>0</td>\n",
       "      <td>1</td>\n",
       "      <td>0</td>\n",
       "      <td>0</td>\n",
       "      <td>6</td>\n",
       "      <td>0</td>\n",
       "      <td>1</td>\n",
       "      <td>0.24</td>\n",
       "      <td>0.2879</td>\n",
       "      <td>0.81</td>\n",
       "      <td>0.0</td>\n",
       "      <td>3</td>\n",
       "      <td>13</td>\n",
       "      <td>16</td>\n",
       "    </tr>\n",
       "    <tr>\n",
       "      <td>1</td>\n",
       "      <td>2</td>\n",
       "      <td>2011-01-01</td>\n",
       "      <td>1</td>\n",
       "      <td>0</td>\n",
       "      <td>1</td>\n",
       "      <td>1</td>\n",
       "      <td>0</td>\n",
       "      <td>6</td>\n",
       "      <td>0</td>\n",
       "      <td>1</td>\n",
       "      <td>0.22</td>\n",
       "      <td>0.2727</td>\n",
       "      <td>0.80</td>\n",
       "      <td>0.0</td>\n",
       "      <td>8</td>\n",
       "      <td>32</td>\n",
       "      <td>40</td>\n",
       "    </tr>\n",
       "    <tr>\n",
       "      <td>2</td>\n",
       "      <td>3</td>\n",
       "      <td>2011-01-01</td>\n",
       "      <td>1</td>\n",
       "      <td>0</td>\n",
       "      <td>1</td>\n",
       "      <td>2</td>\n",
       "      <td>0</td>\n",
       "      <td>6</td>\n",
       "      <td>0</td>\n",
       "      <td>1</td>\n",
       "      <td>0.22</td>\n",
       "      <td>0.2727</td>\n",
       "      <td>0.80</td>\n",
       "      <td>0.0</td>\n",
       "      <td>5</td>\n",
       "      <td>27</td>\n",
       "      <td>32</td>\n",
       "    </tr>\n",
       "    <tr>\n",
       "      <td>3</td>\n",
       "      <td>4</td>\n",
       "      <td>2011-01-01</td>\n",
       "      <td>1</td>\n",
       "      <td>0</td>\n",
       "      <td>1</td>\n",
       "      <td>3</td>\n",
       "      <td>0</td>\n",
       "      <td>6</td>\n",
       "      <td>0</td>\n",
       "      <td>1</td>\n",
       "      <td>0.24</td>\n",
       "      <td>0.2879</td>\n",
       "      <td>0.75</td>\n",
       "      <td>0.0</td>\n",
       "      <td>3</td>\n",
       "      <td>10</td>\n",
       "      <td>13</td>\n",
       "    </tr>\n",
       "  </tbody>\n",
       "</table>\n",
       "</div>"
      ],
      "text/plain": [
       "   instant      dteday  season  yr  mnth  hr  holiday  weekday  workingday  \\\n",
       "0        1  2011-01-01       1   0     1   0        0        6           0   \n",
       "1        2  2011-01-01       1   0     1   1        0        6           0   \n",
       "2        3  2011-01-01       1   0     1   2        0        6           0   \n",
       "3        4  2011-01-01       1   0     1   3        0        6           0   \n",
       "\n",
       "   weathersit  temp   atemp   hum  windspeed  casual  registered  cnt  \n",
       "0           1  0.24  0.2879  0.81        0.0       3          13   16  \n",
       "1           1  0.22  0.2727  0.80        0.0       8          32   40  \n",
       "2           1  0.22  0.2727  0.80        0.0       5          27   32  \n",
       "3           1  0.24  0.2879  0.75        0.0       3          10   13  "
      ]
     },
     "execution_count": 3,
     "metadata": {},
     "output_type": "execute_result"
    }
   ],
   "source": [
    "#Showing some rows of the dataframe\n",
    "bike_rentals.head(4)"
   ]
  },
  {
   "cell_type": "code",
   "execution_count": 4,
   "metadata": {},
   "outputs": [
    {
     "data": {
      "image/png": "[encoded data removed]",
      "text/plain": [
       "<Figure size 720x288 with 1 Axes>"
      ]
     },
     "metadata": {
      "needs_background": "light"
     },
     "output_type": "display_data"
    }
   ],
   "source": [
    "#Importing the libraries\n",
    "import matplotlib.pyplot as plt\n",
    "import numpy as np\n",
    "%matplotlib inline\n",
    "\n",
    "#Building the plot for the hourly rental distribution\n",
    "plt.figure(figsize=(10,4))\n",
    "plt.hist(bike_rentals[\"cnt\"], bins=30, range=(0,1000), color=\"dodgerblue\")\n",
    "x_ticks = np.linspace(0, 1000, 11)\n",
    "y_ticks = np.linspace(0, 4000, 5)\n",
    "plt.xticks(x_ticks)\n",
    "plt.yticks(y_ticks)\n",
    "plt.tick_params(top=\"off\", right=\"off\")\n",
    "plt.title(\"Hourly rentals distribution\")\n",
    "\n",
    "#Showing the standard deviation in the plot\n",
    "cnt_std = bike_rentals[\"cnt\"].std()\n",
    "plt.axvline(cnt_std, linestyle=\"--\", color=\"red\")\n",
    "plt.text(215, 2850, \"STD(cnt)\", size=20)\n",
    "plt.show()"
   ]
  },
  {
   "cell_type": "code",
   "execution_count": 5,
   "metadata": {},
   "outputs": [
    {
     "data": {
      "image/png": "[encoded data removed]",
      "text/plain": [
       "<Figure size 432x288 with 1 Axes>"
      ]
     },
     "metadata": {
      "needs_background": "light"
     },
     "output_type": "display_data"
    }
   ],
   "source": [
    "#Building the plot for the correlations with hourly rentals \n",
    "bike_rentals.corr()[\"cnt\"].sort_values()[:-1].plot(kind=\"barh\", title=\"Features correlation with hourly rentals\", color=\"dodgerblue\")\n",
    "plt.xlim(-1,1)\n",
    "plt.show()"
   ]
  },
  {
   "cell_type": "markdown",
   "metadata": {},
   "source": [
    "## Calculating Features"
   ]
  },
  {
   "cell_type": "markdown",
   "metadata": {
    "collapsed": true
   },
   "source": [
    "We'll calculate some features before applying machine learning models. It can enhance the accuracy of models by introducting new information, or distilling existing information.\n",
    "\n",
    "For example, the *hr* column contains the hours during which bikes are rented, from 1 to 24. A mchine learning will treat each hour differently without undestanding that certain hours are related. So we'll introduce some order into process by creating a new column with labels for *morning*, *afternoon*, *evening* and *night*. This will merge similar times together, enabling the model to make better decisions."
   ]
  },
  {
   "cell_type": "code",
   "execution_count": 6,
   "metadata": {},
   "outputs": [],
   "source": [
    "#Writing the function to group the hours\n",
    "def assign_label(hour):\n",
    "    label = 0\n",
    "    if hour >= 6 and hour < 12:\n",
    "        label = 1\n",
    "    if hour >= 12 and hour < 18:\n",
    "        label = 2\n",
    "    elif hour >= 18 and hour < 24:\n",
    "        label = 3\n",
    "    elif hour >= 0 and hour < 6:\n",
    "        label = 4\n",
    "    return label   \n",
    "\n",
    "#Applying the function to the interested column\n",
    "bike_rentals[\"time_label\"] = bike_rentals[\"hr\"].apply(assign_label)"
   ]
  },
  {
   "cell_type": "markdown",
   "metadata": {},
   "source": [
    "## Splitting the Data into Train and Test Set"
   ]
  },
  {
   "cell_type": "markdown",
   "metadata": {},
   "source": [
    "Before applying machine learning algorithms, we'll need to split the data into training and testing sets. This will enable us to train an algorithm using the training set and evaluate its accuracy on the testing set. This is the right practice, if we train an algorithm on the training data and then evaluate its performance on the same data, we'll get an unrealistically low error due to overfitting.\n",
    "\n",
    "### Choosing the Error Metric\n",
    "Now we have to choose a metric that quantifies how good the prediction on the test set are.\n",
    "For a regression task the most used metrics are: \n",
    "\n",
    "* **Root Mean Squared Error** - RMSE is the square root of the average squared differences between the target value and the value predicted by the model. It's preferred more in some cases because the errors are first squared before averaging which poses a high penalty on large errors. This implies that RMSE is useful when a large errors are undesired.\n",
    "\n",
    "* **Mean Absolute Error** - MAE is the absolute difference between the target value and the value predicted by the model. It's more robust to outliers and doesn't penalize the errors as extremely as RMSE, all the individual differences are weighted equally. It's not suitable for applications where you want to pay more attention to the outliers.\n",
    "\n",
    "We choose the RMSE as the error metric since we want to penalize large errors."
   ]
  },
  {
   "cell_type": "code",
   "execution_count": 7,
   "metadata": {},
   "outputs": [
    {
     "name": "stdout",
     "output_type": "stream",
     "text": [
      "13903 rows for the training set\n",
      "3476 rows for the testing set\n"
     ]
    }
   ],
   "source": [
    "#Training set\n",
    "train = bike_rentals.sample(frac=.8, random_state=1)\n",
    "\n",
    "#Testing set\n",
    "train_indices = train.index\n",
    "test = bike_rentals.drop(train_indices)\n",
    "\n",
    "#Checking the number of the rows\n",
    "print(\"{} rows for the training set\\n{} rows for the testing set\".format(len(train), len(test)))"
   ]
  },
  {
   "cell_type": "markdown",
   "metadata": {},
   "source": [
    "## Filtering Features"
   ]
  },
  {
   "cell_type": "markdown",
   "metadata": {},
   "source": [
    "Now we'll create a list of predictor columns to use in training and predictions. For example we'll need to ignore the *casual* and *registered* columns because our target column *cnt* is derived from them. If we're trying to predict the number of people who rent bikes in a given hour, it doesn't make sense that you'd already know *casual* and *registered*, because those numbers are added together to get *cnt*. We'll remove the *dteday* as well, since it isn't a numerical column and isn't useful for our aim."
   ]
  },
  {
   "cell_type": "code",
   "execution_count": 8,
   "metadata": {},
   "outputs": [
    {
     "data": {
      "text/plain": [
       "Index(['instant', 'season', 'yr', 'mnth', 'hr', 'holiday', 'weekday',\n",
       "       'workingday', 'weathersit', 'temp', 'atemp', 'hum', 'windspeed',\n",
       "       'time_label'],\n",
       "      dtype='object')"
      ]
     },
     "execution_count": 8,
     "metadata": {},
     "output_type": "execute_result"
    }
   ],
   "source": [
    "#Creating the list of the useful columns\n",
    "features = bike_rentals.columns\n",
    "features = features.drop([\"cnt\", \"casual\", \"registered\", \"dteday\"])\n",
    "features"
   ]
  },
  {
   "cell_type": "markdown",
   "metadata": {},
   "source": [
    "Let's check whether there are columns that have a correlation near to 1. In this case, we'll remove these columns since they have almost the same information."
   ]
  },
  {
   "cell_type": "code",
   "execution_count": 9,
   "metadata": {},
   "outputs": [
    {
     "data": {
      "text/plain": [
       "<matplotlib.axes._subplots.AxesSubplot at 0x232fb3e5a88>"
      ]
     },
     "execution_count": 9,
     "metadata": {},
     "output_type": "execute_result"
    },
    {
     "data": {
      "image/png": "[encoded data removed]",
      "text/plain": [
       "<Figure size 720x432 with 2 Axes>"
      ]
     },
     "metadata": {
      "needs_background": "light"
     },
     "output_type": "display_data"
    }
   ],
   "source": [
    "#Importing the library\n",
    "import seaborn as sns\n",
    "\n",
    "#Showing the correlation between the columns through a heatmap\n",
    "corr = bike_rentals[features].corr()\n",
    "plt.figure(figsize=(10,6))\n",
    "sns.heatmap(corr, cmap=\"YlGnBu\")"
   ]
  },
  {
   "cell_type": "code",
   "execution_count": 10,
   "metadata": {},
   "outputs": [
    {
     "data": {
      "text/plain": [
       "0.9876721390396483"
      ]
     },
     "execution_count": 10,
     "metadata": {},
     "output_type": "execute_result"
    }
   ],
   "source": [
    "#Checking the correlation between temp and atemp columns\n",
    "bike_rentals[\"temp\"].corr(bike_rentals[\"atemp\"])"
   ]
  },
  {
   "cell_type": "code",
   "execution_count": 11,
   "metadata": {},
   "outputs": [],
   "source": [
    "#Dropping the temp column\n",
    "features = features.drop([\"temp\"])"
   ]
  },
  {
   "cell_type": "markdown",
   "metadata": {},
   "source": [
    "We've removed the *temp* column because it's almost equal to the *atemp* column, since they have a correlation of 0.987, and would have altered the results. Last thing we'll do is to keeping as features only columns with a high correlation with our target column, we'll use a treshold of 0.30."
   ]
  },
  {
   "cell_type": "code",
   "execution_count": 12,
   "metadata": {},
   "outputs": [
    {
     "data": {
      "text/plain": [
       "atemp         0.400929\n",
       "hr            0.394071\n",
       "instant       0.278379\n",
       "yr            0.250495\n",
       "season        0.178056\n",
       "mnth          0.120638\n",
       "windspeed     0.093234\n",
       "workingday    0.030284\n",
       "weekday       0.026900\n",
       "holiday      -0.030927\n",
       "weathersit   -0.142426\n",
       "hum          -0.322911\n",
       "time_label   -0.378318\n",
       "Name: cnt, dtype: float64"
      ]
     },
     "execution_count": 12,
     "metadata": {},
     "output_type": "execute_result"
    }
   ],
   "source": [
    "#Computing the correlation of all the columns with our target column\n",
    "correlations = bike_rentals.corr()[\"cnt\"][features].sort_values(ascending=False)\n",
    "correlations"
   ]
  },
  {
   "cell_type": "code",
   "execution_count": 13,
   "metadata": {},
   "outputs": [
    {
     "data": {
      "text/plain": [
       "atemp         0.400929\n",
       "hr            0.394071\n",
       "hum          -0.322911\n",
       "time_label   -0.378318\n",
       "Name: cnt, dtype: float64"
      ]
     },
     "execution_count": 13,
     "metadata": {},
     "output_type": "execute_result"
    }
   ],
   "source": [
    "#Filtering the columns with a certain correlation\n",
    "treshold = .3\n",
    "good_corr = correlations[(correlations>treshold) | (correlations<-treshold)]\n",
    "good_corr"
   ]
  },
  {
   "cell_type": "code",
   "execution_count": 14,
   "metadata": {},
   "outputs": [
    {
     "data": {
      "text/plain": [
       "<matplotlib.lines.Line2D at 0x232fb661608>"
      ]
     },
     "execution_count": 14,
     "metadata": {},
     "output_type": "execute_result"
    },
    {
     "data": {
      "image/png": "[encoded data removed]",
      "text/plain": [
       "<Figure size 720x432 with 1 Axes>"
      ]
     },
     "metadata": {
      "needs_background": "light"
     },
     "output_type": "display_data"
    }
   ],
   "source": [
    "#Showing the result in a plot\n",
    "ax = correlations.plot.bar(figsize=(10,6))\n",
    "ax.axhline(treshold, c=\"r\", linestyle=\"dotted\")\n",
    "ax.axhline(-treshold, c=\"r\", linestyle=\"dotted\")"
   ]
  },
  {
   "cell_type": "code",
   "execution_count": 15,
   "metadata": {},
   "outputs": [
    {
     "data": {
      "text/plain": [
       "Index(['hr', 'atemp', 'hum', 'time_label'], dtype='object')"
      ]
     },
     "execution_count": 15,
     "metadata": {},
     "output_type": "execute_result"
    }
   ],
   "source": [
    "#Selecting columns to drop\n",
    "to_drop = correlations[(correlations<=treshold) & (correlations>=-treshold)]\n",
    "to_drop = to_drop.index.values\n",
    "\n",
    "#Updating the features list\n",
    "filtered_features = features.drop(to_drop)\n",
    "filtered_features"
   ]
  },
  {
   "cell_type": "markdown",
   "metadata": {},
   "source": [
    "## Linear Regression"
   ]
  },
  {
   "cell_type": "markdown",
   "metadata": {},
   "source": [
    "Now that we've done some exploration and manipulation, we're ready to apply linear regression to the data. The good thing about linear regression is that it's fairly resistant to overfitting because it's straightforward. It also can be prone to underfitting the data and not building a powerful enough model. This means that linear regression usually isn't the most accurate option. However let's check the accuracy of the model."
   ]
  },
  {
   "cell_type": "code",
   "execution_count": 16,
   "metadata": {},
   "outputs": [
    {
     "name": "stdout",
     "output_type": "stream",
     "text": [
      "130.59675246155683\n"
     ]
    }
   ],
   "source": [
    "#Importing libraries\n",
    "from sklearn.linear_model import LinearRegression\n",
    "from sklearn.metrics import mean_squared_error\n",
    "\n",
    "#Testing the model with all the features\n",
    "lr = LinearRegression()\n",
    "lr.fit(train[features], train[\"cnt\"])\n",
    "predictions = lr.predict(test[features])\n",
    "mse = mean_squared_error(test[\"cnt\"], predictions)\n",
    "rmse = np.sqrt(mse)\n",
    "print(rmse)"
   ]
  },
  {
   "cell_type": "code",
   "execution_count": 17,
   "metadata": {},
   "outputs": [
    {
     "name": "stdout",
     "output_type": "stream",
     "text": [
      "137.04860768382468\n"
     ]
    }
   ],
   "source": [
    "#Testing the model with features with more than 0.30 correlation\n",
    "lr.fit(train[filtered_features], train[\"cnt\"])\n",
    "predictions = lr.predict(test[filtered_features])\n",
    "mse = mean_squared_error(test[\"cnt\"], predictions)\n",
    "rmse = np.sqrt(mse)\n",
    "print(rmse)"
   ]
  },
  {
   "cell_type": "markdown",
   "metadata": {},
   "source": [
    "### Considerations"
   ]
  },
  {
   "cell_type": "markdown",
   "metadata": {},
   "source": [
    "The error is very high, which may be to the fact that the data has a few extremely high rental counts, but otherwise mostly low counts. The test with the filtered features shows that there is no improvement, the model performs even slightly worse."
   ]
  },
  {
   "cell_type": "markdown",
   "metadata": {},
   "source": [
    "## Decision Tree"
   ]
  },
  {
   "cell_type": "markdown",
   "metadata": {},
   "source": [
    "Now we are ready to apply the decision tree algorithm. We'll be able to compare its error with the error from linear regression, which will enable us to pick the rightalgorithm for this data set. Decision trees tend to predict outcomes much more reliably than linear regression models because a decision tree is a quite complex model, it also tend to overfit, particularly when we don't tweak parameters like maximum depth and minimum number of samples per leaf. We'll make several attempts to find the parameters that allow us to minimize the error."
   ]
  },
  {
   "cell_type": "code",
   "execution_count": 18,
   "metadata": {},
   "outputs": [
    {
     "name": "stdout",
     "output_type": "stream",
     "text": [
      "56.684290113616974\n"
     ]
    }
   ],
   "source": [
    "#Importing the library\n",
    "from sklearn.tree import DecisionTreeRegressor\n",
    "\n",
    "#Testing the model with all the features and default parameters\n",
    "dt = DecisionTreeRegressor(random_state=1)\n",
    "dt.fit(train[features], train[\"cnt\"])\n",
    "predictions = dt.predict(test[features])\n",
    "mse = mean_squared_error(test[\"cnt\"], predictions)\n",
    "rmse = np.sqrt(mse)\n",
    "print(rmse)"
   ]
  },
  {
   "cell_type": "code",
   "execution_count": 19,
   "metadata": {},
   "outputs": [],
   "source": [
    "#Tuning parameters\n",
    "dt_rmse_values = {}\n",
    "for n in range(1, 25):\n",
    "    for m in range (2, 25):\n",
    "        dt = DecisionTreeRegressor(min_samples_leaf=n, min_samples_split=m, random_state=1)\n",
    "        dt.fit(train[features], train[\"cnt\"])\n",
    "        predictions = dt.predict(test[features])\n",
    "        mse = mean_squared_error(test[\"cnt\"], predictions)\n",
    "        rmse = np.sqrt(mse)\n",
    "        dt_rmse_values[(n, m)] = rmse"
   ]
  },
  {
   "cell_type": "code",
   "execution_count": 20,
   "metadata": {},
   "outputs": [
    {
     "name": "stdout",
     "output_type": "stream",
     "text": [
      "The best parameters combination is:\n",
      "min_sample_leaf: 7\n",
      "min_sample_split: 2\n"
     ]
    }
   ],
   "source": [
    "#Displaying the best parameters combination\n",
    "print(\"The best parameters combination is:\\nmin_sample_leaf: {}\\nmin_sample_split: {}\"\n",
    "      .format(min(dt_rmse_values, key=dt_rmse_values.get)[0], min(dt_rmse_values, key=dt_rmse_values.get)[1]))"
   ]
  },
  {
   "cell_type": "code",
   "execution_count": 21,
   "metadata": {},
   "outputs": [
    {
     "name": "stdout",
     "output_type": "stream",
     "text": [
      "The corrisponding rmse is:\n",
      "51.12427549953015\n"
     ]
    }
   ],
   "source": [
    "#Showing the corresponding rmse\n",
    "print(\"The corrisponding rmse is:\\n{}\".format(dt_rmse_values[7,2]))"
   ]
  },
  {
   "cell_type": "markdown",
   "metadata": {},
   "source": [
    "Now we'll make the same test but only using the features with a correlation higher than 0.30 with our target column, and we'll see whether there is an improvement."
   ]
  },
  {
   "cell_type": "code",
   "execution_count": 22,
   "metadata": {},
   "outputs": [
    {
     "name": "stdout",
     "output_type": "stream",
     "text": [
      "133.61365037630435\n"
     ]
    }
   ],
   "source": [
    "#Testing the model with all the features with a correlation higher than 0.30 and default parameters\n",
    "dt = DecisionTreeRegressor(random_state=1)\n",
    "dt.fit(train[filtered_features], train[\"cnt\"])\n",
    "predictions = dt.predict(test[filtered_features])\n",
    "mse = mean_squared_error(test[\"cnt\"], predictions)\n",
    "rmse = np.sqrt(mse)\n",
    "print(rmse)"
   ]
  },
  {
   "cell_type": "code",
   "execution_count": 23,
   "metadata": {},
   "outputs": [],
   "source": [
    "#Tuning parameters\n",
    "dt2_rmse_values = {}\n",
    "for n in range(1, 25):\n",
    "    for m in range (2, 25):\n",
    "        dt = DecisionTreeRegressor(min_samples_leaf=n, min_samples_split=m, random_state=1)\n",
    "        dt.fit(train[filtered_features], train[\"cnt\"])\n",
    "        predictions = dt.predict(test[filtered_features])\n",
    "        mse = mean_squared_error(test[\"cnt\"], predictions)\n",
    "        rmse = np.sqrt(mse)\n",
    "        dt2_rmse_values[(n, m)] = rmse"
   ]
  },
  {
   "cell_type": "code",
   "execution_count": 24,
   "metadata": {},
   "outputs": [
    {
     "name": "stdout",
     "output_type": "stream",
     "text": [
      "The best parameters combination is:\n",
      "min_sample_leaf: 24\n",
      "min_sample_split: 2\n"
     ]
    }
   ],
   "source": [
    "#Displaying the best parameters combination\n",
    "print(\"The best parameters combination is:\\nmin_sample_leaf: {}\\nmin_sample_split: {}\"\n",
    "      .format(min(dt2_rmse_values, key=dt2_rmse_values.get)[0], min(dt2_rmse_values, key=dt2_rmse_values.get)[1]))"
   ]
  },
  {
   "cell_type": "code",
   "execution_count": 25,
   "metadata": {},
   "outputs": [
    {
     "name": "stdout",
     "output_type": "stream",
     "text": [
      "The corrisponding rmse is:\n",
      "110.67942736402888\n"
     ]
    }
   ],
   "source": [
    "#Showing the corresponding rmse\n",
    "print(\"The corrisponding rmse is:\\n{}\".format(dt2_rmse_values[7,2]))"
   ]
  },
  {
   "cell_type": "markdown",
   "metadata": {},
   "source": [
    "### Considerations"
   ]
  },
  {
   "cell_type": "markdown",
   "metadata": {},
   "source": [
    "As expected, the decision tree regressor appears to have much higher accuracy than linear regression.\n",
    "It lowered the RMSE from 130.6 to 56.7 using default parameters. We have optimized the *min_samples_leaf* and the *min_samples_split* parameters obtaining a RMSE of 51.1 in the best case. We have also tested the same process with a filtered list of features, we have selected only the features with a correlation higher than 0.30 with our target column, but the RMSE has increased significantly to 110.7 after the parametrs optmization."
   ]
  },
  {
   "cell_type": "markdown",
   "metadata": {},
   "source": [
    "## Random Forest"
   ]
  },
  {
   "cell_type": "markdown",
   "metadata": {},
   "source": [
    "We can now apply the random forest algorithm, which improves the decision tree algorithm. Random forests tend to be much more accurate than simple models. Due to the way random forests are constructed, they tend to overfit much less than decision trees. We'll tune parameters to obtain the optimal RMSE value. "
   ]
  },
  {
   "cell_type": "code",
   "execution_count": 34,
   "metadata": {},
   "outputs": [
    {
     "name": "stdout",
     "output_type": "stream",
     "text": [
      "45.84289985596114\n"
     ]
    }
   ],
   "source": [
    "#Importing the library\n",
    "from sklearn.ensemble import RandomForestRegressor\n",
    "\n",
    "#Testing the model with all the features and default parameters\n",
    "rf = RandomForestRegressor(n_estimators=10, random_state=1)\n",
    "rf.fit(train[features], train[\"cnt\"])\n",
    "predictions = rf.predict(test[features])\n",
    "mse = mean_squared_error(test[\"cnt\"], predictions)\n",
    "rmse = np.sqrt(mse)\n",
    "print(rmse)"
   ]
  },
  {
   "cell_type": "markdown",
   "metadata": {},
   "source": [
    "Let's make the same test using the features with a correlation higher than 0.30 with our target column, and let's see whether the rmse goes down."
   ]
  },
  {
   "cell_type": "code",
   "execution_count": 27,
   "metadata": {},
   "outputs": [
    {
     "name": "stdout",
     "output_type": "stream",
     "text": [
      "118.43441299799866\n"
     ]
    }
   ],
   "source": [
    "#Testing the model with the features with a correlation higher than 0.30 with our target column\n",
    "# and default parameters\n",
    "rf = RandomForestRegressor(n_estimators=10, random_state=1)\n",
    "rf.fit(train[filtered_features], train[\"cnt\"])\n",
    "predictions = rf.predict(test[filtered_features])\n",
    "mse = mean_squared_error(test[\"cnt\"], predictions)\n",
    "rmse = np.sqrt(mse)\n",
    "print(rmse)"
   ]
  },
  {
   "cell_type": "markdown",
   "metadata": {},
   "source": [
    "Using only the high correlated columns doesn't let us make any progress, on the contrary, the rmse went up a lot. So we'll continue to work with all the features."
   ]
  },
  {
   "cell_type": "code",
   "execution_count": 28,
   "metadata": {},
   "outputs": [
    {
     "data": {
      "text/plain": [
       "{10: 45.84289985596114,\n",
       " 12: 45.464980961512694,\n",
       " 13: 45.05750017120703,\n",
       " 14: 44.988857778536385,\n",
       " 16: 44.761472986411675,\n",
       " 17: 44.704166997448745,\n",
       " 19: 44.48640278916543,\n",
       " 21: 44.610201006541025,\n",
       " 23: 44.20455348549973,\n",
       " 25: 43.89838544729375,\n",
       " 28: 44.0364166650316,\n",
       " 31: 43.925731792518796,\n",
       " 34: 43.75828455845062,\n",
       " 37: 43.689752866497315,\n",
       " 41: 43.58363518570583,\n",
       " 45: 43.5038235240452,\n",
       " 50: 43.40266048094213,\n",
       " 55: 43.44639354010382,\n",
       " 61: 43.23418762921946,\n",
       " 67: 43.2342617993008,\n",
       " 73: 43.19635627381733,\n",
       " 81: 43.189834733412646,\n",
       " 89: 43.06500226813072,\n",
       " 98: 43.043986188683526,\n",
       " 108: 42.929693178777136,\n",
       " 119: 42.848777767931445,\n",
       " 130: 42.83284012108941,\n",
       " 144: 42.7918749818685,\n",
       " 158: 42.83751399872483}"
      ]
     },
     "execution_count": 28,
     "metadata": {},
     "output_type": "execute_result"
    }
   ],
   "source": [
    "#Finding the best number of trees in the forest\n",
    "rf_rmse_values = {}\n",
    "space = np.logspace(1, 2.2, 30, dtype=int)\n",
    "for n in space:\n",
    "    rf = RandomForestRegressor(n_estimators=n, random_state=1)\n",
    "    rf.fit(train[features], train[\"cnt\"])\n",
    "    predictions = rf.predict(test[features])\n",
    "    mse = mean_squared_error(test[\"cnt\"], predictions)\n",
    "    rmse = np.sqrt(mse)\n",
    "    rf_rmse_values[n] = rmse\n",
    "rf_rmse_values"
   ]
  },
  {
   "cell_type": "code",
   "execution_count": 37,
   "metadata": {},
   "outputs": [
    {
     "name": "stdout",
     "output_type": "stream",
     "text": [
      "Number of trees:(1, 2)\n",
      "RMSE: 42.7918749818685\n"
     ]
    }
   ],
   "source": [
    "#Showing the best result\n",
    "print(\"Number of trees:{}\\nRMSE: {}\"\n",
    "      .format(min(rf_rmse_values, key=rf_rmse_values.get), min(rf_rmse_values.values())))"
   ]
  },
  {
   "cell_type": "markdown",
   "metadata": {},
   "source": [
    "Now we'll tune the parameters to try to improve the minimum actual rmse score."
   ]
  },
  {
   "cell_type": "code",
   "execution_count": 30,
   "metadata": {},
   "outputs": [],
   "source": [
    "#Tuning the parameters\n",
    "rf2_rmse_values = {}\n",
    "for n in space:\n",
    "    rf = RandomForestRegressor(n_estimators=n, min_samples_leaf=3, random_state=1)\n",
    "    rf.fit(train[features], train[\"cnt\"])\n",
    "    predictions = rf.predict(test[features])\n",
    "    mse = mean_squared_error(test[\"cnt\"], predictions)\n",
    "    rmse = np.sqrt(mse)\n",
    "    rf2_rmse_values[n] = rmse"
   ]
  },
  {
   "cell_type": "code",
   "execution_count": 31,
   "metadata": {},
   "outputs": [
    {
     "data": {
      "text/plain": [
       "{10: 45.77007623748343,\n",
       " 12: 45.71740324823514,\n",
       " 13: 45.32665712000087,\n",
       " 14: 45.20087608046627,\n",
       " 16: 44.99216972996931,\n",
       " 17: 45.01658404041422,\n",
       " 19: 45.073785146964646,\n",
       " 21: 45.25272345167756,\n",
       " 23: 45.09835042115734,\n",
       " 25: 44.937158146825496,\n",
       " 28: 45.03319572899079,\n",
       " 31: 44.810280951227874,\n",
       " 34: 44.66089060246279,\n",
       " 37: 44.55138368661831,\n",
       " 41: 44.561728470793476,\n",
       " 45: 44.48264029037175,\n",
       " 50: 44.411700924851544,\n",
       " 55: 44.47261550079121,\n",
       " 61: 44.39643301933231,\n",
       " 67: 44.43164805220793,\n",
       " 73: 44.44856564008155,\n",
       " 81: 44.382120375528324,\n",
       " 89: 44.335645051107,\n",
       " 98: 44.26733879311033,\n",
       " 108: 44.207801717058075,\n",
       " 119: 44.13833813752492,\n",
       " 130: 44.14572072660932,\n",
       " 144: 44.05544259999068,\n",
       " 158: 44.04494240202518}"
      ]
     },
     "execution_count": 31,
     "metadata": {},
     "output_type": "execute_result"
    }
   ],
   "source": [
    "#Showing the result\n",
    "rf2_rmse_values"
   ]
  },
  {
   "cell_type": "code",
   "execution_count": 32,
   "metadata": {},
   "outputs": [],
   "source": [
    "#Tuning the parameters\n",
    "rf3_rmse_values = {}\n",
    "for n in range(1, 5):\n",
    "    for m in range(2, 5):\n",
    "        rf = RandomForestRegressor(n_estimators=144, min_samples_leaf=n, min_samples_split=m, random_state=1)\n",
    "        rf.fit(train[features], train[\"cnt\"])\n",
    "        predictions = rf.predict(test[features])\n",
    "        mse = mean_squared_error(test[\"cnt\"], predictions)\n",
    "        rmse = np.sqrt(mse)\n",
    "        rf3_rmse_values[(n, m)] = rmse"
   ]
  },
  {
   "cell_type": "code",
   "execution_count": 33,
   "metadata": {},
   "outputs": [
    {
     "data": {
      "text/plain": [
       "{(1, 2): 42.7918749818685,\n",
       " (1, 3): 42.93522519798766,\n",
       " (1, 4): 43.04650968751081,\n",
       " (2, 2): 43.25814548595932,\n",
       " (2, 3): 43.25814548595932,\n",
       " (2, 4): 43.25814548595932,\n",
       " (3, 2): 44.05544259999068,\n",
       " (3, 3): 44.05544259999068,\n",
       " (3, 4): 44.05544259999068,\n",
       " (4, 2): 44.71590671167019,\n",
       " (4, 3): 44.71590671167019,\n",
       " (4, 4): 44.71590671167019}"
      ]
     },
     "execution_count": 33,
     "metadata": {},
     "output_type": "execute_result"
    }
   ],
   "source": [
    "#Showing the result\n",
    "rf3_rmse_values"
   ]
  },
  {
   "cell_type": "markdown",
   "metadata": {},
   "source": [
    "### Considerations"
   ]
  },
  {
   "cell_type": "markdown",
   "metadata": {},
   "source": [
    "As expected, random forest decreases the RMSE value from 56.7 to 45.8 using 10 estimators which is the default value in scikit learn version 0.20. We've tried to increase the number of estimators parameter and we found that generally RMSE decrease as the number of trees in the random forest increase. With 144 estimators we found our best result with a RMSE of 42.79, we can also increase the number of estimator still more to see if the RMSE continues to fall or begins to increase. We've also tried to change some parameters but we haven't found any combinations that has improved our result."
   ]
  },
  {
   "cell_type": "markdown",
   "metadata": {},
   "source": [
    "## Conclusion"
   ]
  },
  {
   "cell_type": "markdown",
   "metadata": {},
   "source": [
    "In this project we have created 3 machine learning models to achieve our goal. Here are the results (best case):\n",
    "\n",
    "* **Linear Regression** = 130.60 (RMSE)\n",
    "* **Decision Tree** = 51.12 (RMSE)\n",
    "* **Random Forest** = 42.79 (RMSE)\n",
    "\n",
    "As expected, the linear model has had very bad results, the decision tree model has greatly improved the error and even better work has been done by random forest. Random forest is a kind of ensemble model and combining the predictions of multiple decision trees has allowed us to improve the results.\n",
    "We can note that, in all three models, when we decided to train the model on a filtered set of features(those that have a correlation greater than 0.30 with our target column) the RMSE increased a lot."
   ]
  }
 ],
 "metadata": {
  "kernelspec": {
   "display_name": "Python 3",
   "language": "python",
   "name": "python3"
  },
  "language_info": {
   "codemirror_mode": {
    "name": "ipython",
    "version": 3
   },
   "file_extension": ".py",
   "mimetype": "text/x-python",
   "name": "python",
   "nbconvert_exporter": "python",
   "pygments_lexer": "ipython3",
   "version": "3.7.4"
  }
 },
 "nbformat": 4,
 "nbformat_minor": 1
}
