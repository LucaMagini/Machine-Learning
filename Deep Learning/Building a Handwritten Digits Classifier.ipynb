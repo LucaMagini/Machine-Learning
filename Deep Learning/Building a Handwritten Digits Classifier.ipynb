{
 "cells": [
  {
   "cell_type": "markdown",
   "metadata": {
    "collapsed": true
   },
   "source": [
    "# Building a Handwritten Digits Classifier "
   ]
  },
  {
   "cell_type": "markdown",
   "metadata": {},
   "source": [
    "**Image recognition** (or image classification) is the task of identifying images and categorizing them in one of several predefined distinct classes, in other words it's the process of taking an input and outputting a class or a probability that the input is a particular class. It's mainly used to perform tasks like labeling images with descriptive tags, searching for content in images, guiding robots, autonomous vehicles and driver assistance systems, it can be found at the core of everything from healthcare to security. Image recognition is natural for humans and animals but it's an extremely hard task for computer to perform. The most effective tool found for this kind of task is a **deep neural network**. In this project we'll: \n",
    "\n",
    "* Observe the limitations of traditional machine learning model for image classification\n",
    "* Train, test and improve a few different deep neural networks for image classification"
   ]
  },
  {
   "cell_type": "markdown",
   "metadata": {},
   "source": [
    "## Introduction"
   ]
  },
  {
   "cell_type": "markdown",
   "metadata": {},
   "source": [
    "Deep neural networks have been used to reach state of the art performance on image classification tasks in the last decade. For same image classification tasks, deep neural networks actually perform as well or slightly better than the human benchmark. However image classification is still considered a hard task, essentially for these three reasons: \n",
    "\n",
    "1. Each image in a training set is high dimensional. Each pixel in an image is a feature and a separate column. This means that a 128 x 128 image has 16384 features.\n",
    "\n",
    "\n",
    "2. Images are often downsampled to lower resolutions and this is a limitation of compute power unfortunately. For instance, the resolution of a 8 megapixel photo has 3264 by 2448 pixels, for a total of about 8 million of features. Images of this resolution are usually scaled down to between 128 and 512 pixel in either direction for faster processing. This often results in a loss of detail that's available for training and patern matching.\n",
    "\n",
    "3. The features in an image don't have an obvious linear or nonlinear relatinship that can be learned with a model like linear or logistic regression. In grayscale (no color), each pixel is represented as a brightness value ranging from 0 to 256.\n",
    "\n",
    "Deep learning is effective in image classification because of the models' ability to learn hierarchical representations. At a high level, an effective deep learning model learns intermediate representations at each layer in the model and uses them in the prediction process."
   ]
  },
  {
   "cell_type": "markdown",
   "metadata": {},
   "source": [
    "<img src=\"Images/Neural_Network.png\"/>\n",
    "\n",
    "*Each neuron takes an input, performs some operations then passes the output to the following neuron. This model works in a similar way to the neurons in the human brain*"
   ]
  },
  {
   "cell_type": "markdown",
   "metadata": {},
   "source": [
    "Let's start exploring the effectiveness of deep, feedforward neural networks at classifying images."
   ]
  },
  {
   "cell_type": "markdown",
   "metadata": {},
   "source": [
    "## Working with Image Data"
   ]
  },
  {
   "cell_type": "markdown",
   "metadata": {},
   "source": [
    "Scikit learn contains a number of dataset pre-loaded with the library, within the namespace of sklearn.datasets. The *load_digits()* function returns a copy of a hand-written digits dataset, we'll work with that dataset. Because dataframes are a tabular representation of the data, each image is represented as a row of pixel values. To visualize an image from the dataframe, we need to reshape these pixel  values back to its original dimension."
   ]
  },
  {
   "cell_type": "code",
   "execution_count": 85,
   "metadata": {},
   "outputs": [],
   "source": [
    "#Importing the libraries\n",
    "from sklearn.datasets import load_digits\n",
    "import pandas as pd\n",
    "import numpy as np\n",
    "import matplotlib.pyplot as plt\n",
    "%matplotlib inline"
   ]
  },
  {
   "cell_type": "code",
   "execution_count": 86,
   "metadata": {},
   "outputs": [
    {
     "data": {
      "text/html": [
       "<div>\n",
       "<style scoped>\n",
       "    .dataframe tbody tr th:only-of-type {\n",
       "        vertical-align: middle;\n",
       "    }\n",
       "\n",
       "    .dataframe tbody tr th {\n",
       "        vertical-align: top;\n",
       "    }\n",
       "\n",
       "    .dataframe thead th {\n",
       "        text-align: right;\n",
       "    }\n",
       "</style>\n",
       "<table border=\"1\" class=\"dataframe\">\n",
       "  <thead>\n",
       "    <tr style=\"text-align: right;\">\n",
       "      <th></th>\n",
       "      <th>0</th>\n",
       "      <th>1</th>\n",
       "      <th>2</th>\n",
       "      <th>3</th>\n",
       "      <th>4</th>\n",
       "      <th>5</th>\n",
       "      <th>6</th>\n",
       "      <th>7</th>\n",
       "      <th>8</th>\n",
       "      <th>9</th>\n",
       "      <th>...</th>\n",
       "      <th>54</th>\n",
       "      <th>55</th>\n",
       "      <th>56</th>\n",
       "      <th>57</th>\n",
       "      <th>58</th>\n",
       "      <th>59</th>\n",
       "      <th>60</th>\n",
       "      <th>61</th>\n",
       "      <th>62</th>\n",
       "      <th>63</th>\n",
       "    </tr>\n",
       "  </thead>\n",
       "  <tbody>\n",
       "    <tr>\n",
       "      <td>0</td>\n",
       "      <td>0.0</td>\n",
       "      <td>0.0</td>\n",
       "      <td>5.0</td>\n",
       "      <td>13.0</td>\n",
       "      <td>9.0</td>\n",
       "      <td>1.0</td>\n",
       "      <td>0.0</td>\n",
       "      <td>0.0</td>\n",
       "      <td>0.0</td>\n",
       "      <td>0.0</td>\n",
       "      <td>...</td>\n",
       "      <td>0.0</td>\n",
       "      <td>0.0</td>\n",
       "      <td>0.0</td>\n",
       "      <td>0.0</td>\n",
       "      <td>6.0</td>\n",
       "      <td>13.0</td>\n",
       "      <td>10.0</td>\n",
       "      <td>0.0</td>\n",
       "      <td>0.0</td>\n",
       "      <td>0.0</td>\n",
       "    </tr>\n",
       "    <tr>\n",
       "      <td>1</td>\n",
       "      <td>0.0</td>\n",
       "      <td>0.0</td>\n",
       "      <td>0.0</td>\n",
       "      <td>12.0</td>\n",
       "      <td>13.0</td>\n",
       "      <td>5.0</td>\n",
       "      <td>0.0</td>\n",
       "      <td>0.0</td>\n",
       "      <td>0.0</td>\n",
       "      <td>0.0</td>\n",
       "      <td>...</td>\n",
       "      <td>0.0</td>\n",
       "      <td>0.0</td>\n",
       "      <td>0.0</td>\n",
       "      <td>0.0</td>\n",
       "      <td>0.0</td>\n",
       "      <td>11.0</td>\n",
       "      <td>16.0</td>\n",
       "      <td>10.0</td>\n",
       "      <td>0.0</td>\n",
       "      <td>0.0</td>\n",
       "    </tr>\n",
       "    <tr>\n",
       "      <td>2</td>\n",
       "      <td>0.0</td>\n",
       "      <td>0.0</td>\n",
       "      <td>0.0</td>\n",
       "      <td>4.0</td>\n",
       "      <td>15.0</td>\n",
       "      <td>12.0</td>\n",
       "      <td>0.0</td>\n",
       "      <td>0.0</td>\n",
       "      <td>0.0</td>\n",
       "      <td>0.0</td>\n",
       "      <td>...</td>\n",
       "      <td>5.0</td>\n",
       "      <td>0.0</td>\n",
       "      <td>0.0</td>\n",
       "      <td>0.0</td>\n",
       "      <td>0.0</td>\n",
       "      <td>3.0</td>\n",
       "      <td>11.0</td>\n",
       "      <td>16.0</td>\n",
       "      <td>9.0</td>\n",
       "      <td>0.0</td>\n",
       "    </tr>\n",
       "  </tbody>\n",
       "</table>\n",
       "<p>3 rows × 64 columns</p>\n",
       "</div>"
      ],
      "text/plain": [
       "    0    1    2     3     4     5    6    7    8    9   ...   54   55   56  \\\n",
       "0  0.0  0.0  5.0  13.0   9.0   1.0  0.0  0.0  0.0  0.0  ...  0.0  0.0  0.0   \n",
       "1  0.0  0.0  0.0  12.0  13.0   5.0  0.0  0.0  0.0  0.0  ...  0.0  0.0  0.0   \n",
       "2  0.0  0.0  0.0   4.0  15.0  12.0  0.0  0.0  0.0  0.0  ...  5.0  0.0  0.0   \n",
       "\n",
       "    57   58    59    60    61   62   63  \n",
       "0  0.0  6.0  13.0  10.0   0.0  0.0  0.0  \n",
       "1  0.0  0.0  11.0  16.0  10.0  0.0  0.0  \n",
       "2  0.0  0.0   3.0  11.0  16.0  9.0  0.0  \n",
       "\n",
       "[3 rows x 64 columns]"
      ]
     },
     "execution_count": 86,
     "metadata": {},
     "output_type": "execute_result"
    }
   ],
   "source": [
    "#Defining the labels and the data\n",
    "digits = load_digits()\n",
    "labels = pd.Series(digits[\"target\"])\n",
    "data = pd.DataFrame(digits[\"data\"])\n",
    "\n",
    "#Showing some rows of the dataframe\n",
    "data.head(3)"
   ]
  },
  {
   "cell_type": "markdown",
   "metadata": {},
   "source": [
    "To reshape the image, we need to convert a row to a numpy array and pass the result into the *numpy.reshape()* function."
   ]
  },
  {
   "cell_type": "code",
   "execution_count": 87,
   "metadata": {},
   "outputs": [
    {
     "data": {
      "text/plain": [
       "<matplotlib.image.AxesImage at 0x1ae88eaed08>"
      ]
     },
     "execution_count": 87,
     "metadata": {},
     "output_type": "execute_result"
    },
    {
     "data": {
      "image/png": "[encoded data removed]",
      "text/plain": [
       "<Figure size 432x288 with 1 Axes>"
      ]
     },
     "metadata": {
      "needs_background": "light"
     },
     "output_type": "display_data"
    }
   ],
   "source": [
    "#Taking the first row of the dataframe\n",
    "first_image = data.iloc[0]\n",
    "\n",
    "#Converting that row in a numpy array\n",
    "image = first_image.values\n",
    "\n",
    "#Applying the reshape() function\n",
    "image = image.reshape(8,8)\n",
    "\n",
    "#Showing the image\n",
    "plt.imshow(image, cmap=\"gray_r\")"
   ]
  },
  {
   "cell_type": "code",
   "execution_count": 88,
   "metadata": {},
   "outputs": [
    {
     "data": {
      "text/plain": [
       "<matplotlib.image.AxesImage at 0x1ae88fe5fc8>"
      ]
     },
     "execution_count": 88,
     "metadata": {},
     "output_type": "execute_result"
    },
    {
     "data": {
      "image/png": "[encoded data removed]",
      "text/plain": [
       "<Figure size 432x288 with 8 Axes>"
      ]
     },
     "metadata": {
      "needs_background": "light"
     },
     "output_type": "display_data"
    }
   ],
   "source": [
    "#Showing some other images\n",
    "fig, ax = plt.subplots(2, 4)\n",
    "ax[0,0].imshow(data.iloc[0].values.reshape(8,8), cmap=\"gray_r\")\n",
    "ax[0,1].imshow(data.iloc[99].values.reshape(8,8), cmap=\"gray_r\")\n",
    "ax[0,2].imshow(data.iloc[199].values.reshape(8,8), cmap=\"gray_r\")\n",
    "ax[0,3].imshow(data.iloc[299].values.reshape(8,8), cmap=\"gray_r\")\n",
    "ax[1,0].imshow(data.iloc[999].values.reshape(8,8), cmap=\"gray_r\")\n",
    "ax[1,1].imshow(data.iloc[1099].values.reshape(8,8), cmap=\"gray_r\")\n",
    "ax[1,2].imshow(data.iloc[1199].values.reshape(8,8), cmap=\"gray_r\")\n",
    "ax[1,3].imshow(data.iloc[1299].values.reshape(8,8), cmap=\"gray_r\")"
   ]
  },
  {
   "cell_type": "markdown",
   "metadata": {},
   "source": [
    "## K-Nearest Neighbors Model"
   ]
  },
  {
   "cell_type": "markdown",
   "metadata": {},
   "source": [
    "Now we'll setup a pipeline for testing and training KNN models. They should perform quite well considering that while linear and logistic regression models make assumpitions about the linearity between the features and the output labels, the K-Nearest Neighbors algorithm make no such assumptions, this allow them to capture nonlinearity in the data. "
   ]
  },
  {
   "cell_type": "code",
   "execution_count": 89,
   "metadata": {},
   "outputs": [],
   "source": [
    "#Importing libraries\n",
    "from sklearn.neighbors import KNeighborsClassifier\n",
    "from sklearn.model_selection import KFold\n",
    "\n",
    "#Function for training the knn models\n",
    "def train_knn(number_neighbors, train_features, train_labels):\n",
    "    knn = KNeighborsClassifier(n_neighbors = number_neighbors)\n",
    "    knn.fit(train_features, train_labels)\n",
    "    return knn\n",
    "\n",
    "#function to test the models\n",
    "def test(model, test_features, test_labels):\n",
    "    predictions = model.predict(test_features)\n",
    "    accuracy = sum(predictions == test_labels) / len(predictions)\n",
    "    return accuracy\n",
    "\n",
    "#Function to perform a 4-fold cross validation\n",
    "def knn_cross_validate(k):\n",
    "    fold_accuracies = []\n",
    "    kf = KFold(n_splits = 4, random_state = 1)\n",
    "    for train_index, test_index in kf.split(data):\n",
    "        train_features, test_features = data.loc[train_index], data.loc[test_index]\n",
    "        train_labels, test_labels = labels.loc[train_index], labels.loc[test_index]\n",
    "        model = train_knn(k, train_features, train_labels)\n",
    "        accuracy = test(model, test_features, test_labels)\n",
    "        fold_accuracies.append(accuracy)\n",
    "    return fold_accuracies    "
   ]
  },
  {
   "cell_type": "markdown",
   "metadata": {},
   "source": [
    "Now we'll compute the results using different k values."
   ]
  },
  {
   "cell_type": "code",
   "execution_count": 90,
   "metadata": {},
   "outputs": [
    {
     "data": {
      "image/png": "[encoded data removed]",
      "text/plain": [
       "<Figure size 864x288 with 1 Axes>"
      ]
     },
     "metadata": {
      "needs_background": "light"
     },
     "output_type": "display_data"
    }
   ],
   "source": [
    "#Creating a list that contains the mean accuracies as k changes\n",
    "k_accuracies = []\n",
    "for k in range(1,11):\n",
    "    accuracies = knn_cross_validate(k)\n",
    "    mean_accuracy = np.mean(accuracies)\n",
    "    k_accuracies.append(mean_accuracy)\n",
    "    \n",
    "#Plotting the results\n",
    "plt.figure(figsize=(12,4))\n",
    "plt.plot(range(1,11), k_accuracies)\n",
    "plt.xticks(range(1,11))\n",
    "plt.title(\"Accuracy vs K\")\n",
    "plt.show()"
   ]
  },
  {
   "cell_type": "code",
   "execution_count": 91,
   "metadata": {},
   "outputs": [
    {
     "data": {
      "text/plain": [
       "[0.9677233358079684,\n",
       " 0.9616010888393962,\n",
       " 0.9627183865379857,\n",
       " 0.9649480326651819,\n",
       " 0.9621665429349171,\n",
       " 0.9588270230141054,\n",
       " 0.9571591190299431,\n",
       " 0.9571578817124474,\n",
       " 0.9543801039346697,\n",
       " 0.9527097253155159]"
      ]
     },
     "execution_count": 91,
     "metadata": {},
     "output_type": "execute_result"
    }
   ],
   "source": [
    "#Showing the accuracy as k changes\n",
    "k_accuracies"
   ]
  },
  {
   "cell_type": "markdown",
   "metadata": {},
   "source": [
    "## Random Forest Model"
   ]
  },
  {
   "cell_type": "markdown",
   "metadata": {},
   "source": [
    "We'll test a random forest model as well to compare the performance with the neural networks. We'll redefine the train and cross validation functions to match our Random Forest requirements."
   ]
  },
  {
   "cell_type": "code",
   "execution_count": 92,
   "metadata": {},
   "outputs": [
    {
     "data": {
      "image/png": "[encoded data removed]",
      "text/plain": [
       "<Figure size 864x288 with 1 Axes>"
      ]
     },
     "metadata": {
      "needs_background": "light"
     },
     "output_type": "display_data"
    }
   ],
   "source": [
    "from sklearn.ensemble import RandomForestClassifier\n",
    "#Function for training the random forest models\n",
    "def train_rf(number_estimators, train_features, train_labels):\n",
    "    rf = RandomForestClassifier(n_estimators = number_estimators)\n",
    "    rf.fit(train_features, train_labels)\n",
    "    return rf\n",
    "\n",
    "#Function to perform a 4-fold cross validation\n",
    "def rf_cross_validate(number_estimators):\n",
    "    fold_accuracies = []\n",
    "    kf = KFold(n_splits = 4, random_state = 1)\n",
    "    for train_index, test_index in kf.split(data):\n",
    "        train_features, test_features = data.loc[train_index], data.loc[test_index]\n",
    "        train_labels, test_labels = labels.loc[train_index], labels.loc[test_index]\n",
    "        model = train_rf(number_estimators, train_features, train_labels)\n",
    "        accuracy = test(model, test_features, test_labels)\n",
    "        fold_accuracies.append(accuracy)\n",
    "    return fold_accuracies    \n",
    "\n",
    "#Creating a list that contains the mean accuracies as estimators changes\n",
    "estimators_accuracies = []\n",
    "estimators = np.logspace(1, 2.5, 8, dtype=int)\n",
    "for n in estimators:\n",
    "    accuracies = rf_cross_validate(n)\n",
    "    mean_accuracy = np.mean(accuracies)\n",
    "    estimators_accuracies.append(mean_accuracy)\n",
    "    \n",
    "#Plotting the results\n",
    "plt.figure(figsize=(12,4))\n",
    "plt.plot(estimators, estimators_accuracies)\n",
    "plt.xticks(estimators)\n",
    "plt.title(\"Accuracy vs Estimators\")\n",
    "plt.show()"
   ]
  },
  {
   "cell_type": "code",
   "execution_count": 93,
   "metadata": {},
   "outputs": [
    {
     "data": {
      "text/plain": [
       "[0.914303390249938,\n",
       " 0.9193145261073992,\n",
       " 0.9259935659490225,\n",
       " 0.931549121504578,\n",
       " 0.9410121257114575,\n",
       " 0.9410133630289531,\n",
       " 0.9432380598861667,\n",
       " 0.9399010146003465]"
      ]
     },
     "execution_count": 93,
     "metadata": {},
     "output_type": "execute_result"
    }
   ],
   "source": [
    "#Showing the accuracy as number of estimators changes\n",
    "estimators_accuracies"
   ]
  },
  {
   "cell_type": "markdown",
   "metadata": {},
   "source": [
    "## Neural Network with One Hidden Layer"
   ]
  },
  {
   "cell_type": "markdown",
   "metadata": {},
   "source": [
    "There are few downsides to using k-nearest neighbors:\n",
    "\n",
    "* High memory usage (for each new unseen observation, many comparisons need to be made to seen observation).\n",
    "* No model representation to debug and explore.\n",
    "\n",
    "Random forest perform good as well, now let's try a neural network with a single layer."
   ]
  },
  {
   "cell_type": "code",
   "execution_count": 94,
   "metadata": {},
   "outputs": [],
   "source": [
    "#Importing the library\n",
    "from sklearn.neural_network import MLPClassifier\n",
    "\n",
    "#Function for training the neural network\n",
    "def train_nn(neurons, train_features, train_labels):\n",
    "    mlp = MLPClassifier(hidden_layer_sizes = neurons, max_iter=1000)\n",
    "    mlp.fit(train_features, train_labels)\n",
    "    return mlp\n",
    "\n",
    "#Function to perform a 4-fold cross validation\n",
    "def nn_cross_validate(neurons, number_splits):\n",
    "    fold_accuracies = []\n",
    "    kf = KFold(n_splits = number_splits, random_state = 1)\n",
    "    for train_index, test_index in kf.split(data):\n",
    "        train_features, test_features = data.loc[train_index], data.loc[test_index]\n",
    "        train_labels, test_labels = labels.loc[train_index], labels.loc[test_index]\n",
    "        model = train_nn(neurons, train_features, train_labels)\n",
    "        accuracy = test(model, test_features, test_labels)\n",
    "        fold_accuracies.append(accuracy)\n",
    "    return fold_accuracies    "
   ]
  },
  {
   "cell_type": "markdown",
   "metadata": {},
   "source": [
    "Now we'll train and test a neural network with 1 hidden layer using different numbers of neurons."
   ]
  },
  {
   "cell_type": "code",
   "execution_count": 95,
   "metadata": {},
   "outputs": [
    {
     "data": {
      "image/png": "[encoded data removed]",
      "text/plain": [
       "<Figure size 864x288 with 1 Axes>"
      ]
     },
     "metadata": {
      "needs_background": "light"
     },
     "output_type": "display_data"
    }
   ],
   "source": [
    "#Creating a list that contains the mean accuracies as the number of neurons changes\n",
    "number_neurons = [(8,), (16,), (32), (64,), (128,), (256,)]\n",
    "number_neurons_accuracies = []\n",
    "for n in number_neurons:\n",
    "    accuracies = nn_cross_validate(n, 4)\n",
    "    mean_accuracy = np.mean(accuracies)\n",
    "    number_neurons_accuracies.append(mean_accuracy)\n",
    "    \n",
    "#Plotting the results\n",
    "plt.figure(figsize=(12,4))\n",
    "x = [8, 16, 32, 64, 128, 256]\n",
    "plt.plot(x, number_neurons_accuracies)\n",
    "plt.xticks(x)\n",
    "plt.yticks(np.arange(0.88, 0.98, 0.02))\n",
    "plt.title(\"Accuracy vs Neurons in 1 Hidden Layer\")\n",
    "plt.show()  "
   ]
  },
  {
   "cell_type": "code",
   "execution_count": 96,
   "metadata": {},
   "outputs": [
    {
     "data": {
      "text/plain": [
       "[0.8953711952487008,\n",
       " 0.9159725315515961,\n",
       " 0.9359898539965354,\n",
       " 0.9382306359811927,\n",
       " 0.9410034644889879,\n",
       " 0.9471257114575601]"
      ]
     },
     "execution_count": 96,
     "metadata": {},
     "output_type": "execute_result"
    }
   ],
   "source": [
    "#Showing the accuracy as the number of neurons per layer changes\n",
    "number_neurons_accuracies"
   ]
  },
  {
   "cell_type": "markdown",
   "metadata": {},
   "source": [
    "### Train and Test Sets Performance Comparison"
   ]
  },
  {
   "cell_type": "markdown",
   "metadata": {},
   "source": [
    "For each neural network model we'll compute and visualize the performance for both the train and test sets to understand how they diverged. Models that overfit tand to perform well on the train set but poorly on the test set."
   ]
  },
  {
   "cell_type": "code",
   "execution_count": 97,
   "metadata": {},
   "outputs": [],
   "source": [
    "#Defining a function to compare the scores in train and test set\n",
    "def train_vs_test_score(k, number_splits):\n",
    "    train_fold_accuracies = []\n",
    "    test_fold_accuracies = []\n",
    "    kf = KFold(n_splits = number_splits, random_state = 1)\n",
    "    for train_index, test_index in kf.split(data):\n",
    "        train_features, test_features = data.loc[train_index], data.loc[test_index]\n",
    "        train_labels, test_labels = labels.loc[train_index], labels.loc[test_index]\n",
    "        model = train_nn(k, train_features, train_labels)\n",
    "        test_accuracy = test(model, test_features, test_labels)\n",
    "        train_accuracy = test(model, train_features, train_labels)\n",
    "        train_fold_accuracies.append(train_accuracy)\n",
    "        test_fold_accuracies.append(test_accuracy)\n",
    "    return train_fold_accuracies, test_fold_accuracies  "
   ]
  },
  {
   "cell_type": "code",
   "execution_count": 98,
   "metadata": {},
   "outputs": [
    {
     "name": "stderr",
     "output_type": "stream",
     "text": [
      "C:\\Users\\User\\Anaconda3\\lib\\site-packages\\sklearn\\neural_network\\multilayer_perceptron.py:566: ConvergenceWarning: Stochastic Optimizer: Maximum iterations (1000) reached and the optimization hasn't converged yet.\n",
      "  % self.max_iter, ConvergenceWarning)\n",
      "C:\\Users\\User\\Anaconda3\\lib\\site-packages\\sklearn\\neural_network\\multilayer_perceptron.py:566: ConvergenceWarning: Stochastic Optimizer: Maximum iterations (1000) reached and the optimization hasn't converged yet.\n",
      "  % self.max_iter, ConvergenceWarning)\n"
     ]
    },
    {
     "data": {
      "image/png": "[encoded data removed]",
      "text/plain": [
       "<Figure size 864x288 with 1 Axes>"
      ]
     },
     "metadata": {
      "needs_background": "light"
     },
     "output_type": "display_data"
    }
   ],
   "source": [
    "#Creating a list that contains the mean accuracies as the number of neurons changes\n",
    "number_neurons = [(8,), (16,), (32), (64,), (128,), (256,)]\n",
    "avg_score_train = []\n",
    "avg_score_test = []\n",
    "for n in number_neurons:\n",
    "    train_accuracies, test_accuracies = train_vs_test_score(n, 4)\n",
    "    train_mean_accuracy = np.mean(train_accuracies)\n",
    "    test_mean_accuracy = np.mean(test_accuracies)\n",
    "    avg_score_train.append(train_mean_accuracy)\n",
    "    avg_score_test.append(test_mean_accuracy)\n",
    "    \n",
    "#Plotting the results\n",
    "plt.figure(figsize=(12,4))\n",
    "x = [8, 16, 32, 64, 128, 256]\n",
    "train_line = plt.plot(x, avg_score_train, label = \"train\")\n",
    "test_line = plt.plot(x, avg_score_test, label = \"test\")\n",
    "plt.xticks(x)\n",
    "plt.yticks(np.arange(0.84, 1.00, 0.02))\n",
    "plt.title(\"Train vs Test scores (1 Hidden Layer)\")\n",
    "plt.legend(handles = [train_line[0], test_line[0]], loc = \"lower right\")\n",
    "plt.show()  "
   ]
  },
  {
   "cell_type": "code",
   "execution_count": 99,
   "metadata": {},
   "outputs": [
    {
     "data": {
      "text/plain": [
       "[0.9981442991238911, 0.9998144023756496, 1.0, 1.0, 1.0, 1.0]"
      ]
     },
     "execution_count": 99,
     "metadata": {},
     "output_type": "execute_result"
    }
   ],
   "source": [
    "#Showing the results for the train set\n",
    "avg_score_train"
   ]
  },
  {
   "cell_type": "code",
   "execution_count": 100,
   "metadata": {},
   "outputs": [
    {
     "data": {
      "text/plain": [
       "[0.8770193021529324,\n",
       " 0.9226503340757239,\n",
       " 0.9254219252660233,\n",
       " 0.9270947785201683,\n",
       " 0.9460207869339272,\n",
       " 0.9515812917594655]"
      ]
     },
     "execution_count": 100,
     "metadata": {},
     "output_type": "execute_result"
    }
   ],
   "source": [
    "#Showing the results for the test set\n",
    "avg_score_test"
   ]
  },
  {
   "cell_type": "markdown",
   "metadata": {},
   "source": [
    "As we expected, the performance on the train set is higher than the performance on the test set, however the model perform well in the test set and we can say that there is no overfitting since the performance differences aren't that high."
   ]
  },
  {
   "cell_type": "markdown",
   "metadata": {},
   "source": [
    "## Neural Network with Two Hidden Layers"
   ]
  },
  {
   "cell_type": "markdown",
   "metadata": {},
   "source": [
    "Now we'll train and test the same neural network model but this time we'll use 2 hidden layers. Let's see if this involves some improvement."
   ]
  },
  {
   "cell_type": "code",
   "execution_count": 101,
   "metadata": {},
   "outputs": [
    {
     "data": {
      "image/png": "[encoded data removed]",
      "text/plain": [
       "<Figure size 864x288 with 1 Axes>"
      ]
     },
     "metadata": {
      "needs_background": "light"
     },
     "output_type": "display_data"
    }
   ],
   "source": [
    "#Creating a list that contains the mean accuracies as the number of neurons changes\n",
    "number_neurons = [(8,8), (16,16), (32,32), (64,64), (128,128), (256,256)]\n",
    "number_neurons_two_accuracies = []\n",
    "for n in number_neurons:\n",
    "    accuracies = nn_cross_validate(n, 4)\n",
    "    mean_accuracy = np.mean(accuracies)\n",
    "    number_neurons_two_accuracies.append(mean_accuracy)\n",
    "    \n",
    "#Plotting the results\n",
    "plt.figure(figsize=(12,4))\n",
    "x = [8, 16, 32, 64, 128, 256]\n",
    "plt.plot(x, number_neurons_two_accuracies)\n",
    "plt.xticks(x)\n",
    "plt.yticks(np.arange(0.84, 0.98, 0.02))\n",
    "plt.title(\"Accuracy vs Neurons in 2 Hidden Layers\")\n",
    "plt.show()  "
   ]
  },
  {
   "cell_type": "code",
   "execution_count": 102,
   "metadata": {},
   "outputs": [
    {
     "data": {
      "text/plain": [
       "[0.8770254887404109,\n",
       " 0.9165132392972036,\n",
       " 0.9315429349170996,\n",
       " 0.9404528582034151,\n",
       " 0.9493553575847562,\n",
       " 0.9515850037119525]"
      ]
     },
     "execution_count": 102,
     "metadata": {},
     "output_type": "execute_result"
    }
   ],
   "source": [
    "#Showing the accuracy as the number of neurons per layer changes\n",
    "number_neurons_two_accuracies"
   ]
  },
  {
   "cell_type": "markdown",
   "metadata": {},
   "source": [
    "### Train and Test Sets Performance Comparison"
   ]
  },
  {
   "cell_type": "code",
   "execution_count": 103,
   "metadata": {},
   "outputs": [
    {
     "data": {
      "image/png": "[encoded data removed]",
      "text/plain": [
       "<Figure size 864x288 with 1 Axes>"
      ]
     },
     "metadata": {
      "needs_background": "light"
     },
     "output_type": "display_data"
    }
   ],
   "source": [
    "#Creating a list that contains the mean accuracies as the number of neurons changes\n",
    "number_neurons = [(8,8), (16,16), (32,32), (64,64), (128,128), (256,256)]\n",
    "avg_score_train = []\n",
    "avg_score_test = []\n",
    "for n in number_neurons:\n",
    "    train_accuracies, test_accuracies = train_vs_test_score(n, 4)\n",
    "    train_mean_accuracy = np.mean(train_accuracies)\n",
    "    test_mean_accuracy = np.mean(test_accuracies)\n",
    "    avg_score_train.append(train_mean_accuracy)\n",
    "    avg_score_test.append(test_mean_accuracy)\n",
    "    \n",
    "#Plotting the results\n",
    "plt.figure(figsize=(12,4))\n",
    "x = [8, 16, 32, 64, 128, 256]\n",
    "train_line = plt.plot(x, avg_score_train, label = \"train\")\n",
    "test_line = plt.plot(x, avg_score_test, label = \"test\")\n",
    "plt.xticks(x)\n",
    "plt.yticks(np.arange(0.84, 1.00, 0.02))\n",
    "plt.title(\"Train vs Test scores (2 Hidden Layers)\")\n",
    "plt.legend(handles=[train_line[0], test_line[0]], loc= \"lower right\")\n",
    "plt.show()  "
   ]
  },
  {
   "cell_type": "code",
   "execution_count": 104,
   "metadata": {},
   "outputs": [
    {
     "data": {
      "text/plain": [
       "[0.9998145400593472, 1.0, 1.0, 1.0, 1.0, 1.0]"
      ]
     },
     "execution_count": 104,
     "metadata": {},
     "output_type": "execute_result"
    }
   ],
   "source": [
    "#Showing the results for the train set\n",
    "avg_score_train"
   ]
  },
  {
   "cell_type": "code",
   "execution_count": 105,
   "metadata": {},
   "outputs": [
    {
     "data": {
      "text/plain": [
       "[0.887582281613462,\n",
       " 0.9137391734719129,\n",
       " 0.9321096263301163,\n",
       " 0.9332195001237318,\n",
       " 0.9521380846325167,\n",
       " 0.9565936649344221]"
      ]
     },
     "execution_count": 105,
     "metadata": {},
     "output_type": "execute_result"
    }
   ],
   "source": [
    "#Showing the results for the test set\n",
    "avg_score_test"
   ]
  },
  {
   "cell_type": "markdown",
   "metadata": {},
   "source": [
    "In the 2 hidden layer neural network the train and test sets performances are close as well, there is no overfitting."
   ]
  },
  {
   "cell_type": "markdown",
   "metadata": {},
   "source": [
    "## Neural Network with Three Hidden Layers"
   ]
  },
  {
   "cell_type": "markdown",
   "metadata": {},
   "source": [
    "Using more hidden layers is known to increase the amount of overfitting can happens. To help us prevent overfitting, let's increase the number of folds we use for k-fold cross validation from 4 to 6 while testing networks with 3 hidden layers."
   ]
  },
  {
   "cell_type": "code",
   "execution_count": 106,
   "metadata": {},
   "outputs": [
    {
     "data": {
      "image/png": "[encoded data removed]",
      "text/plain": [
       "<Figure size 864x288 with 1 Axes>"
      ]
     },
     "metadata": {
      "needs_background": "light"
     },
     "output_type": "display_data"
    }
   ],
   "source": [
    "#Creating a list that contains the mean accuracies as the number of neurons changes\n",
    "number_neurons = [(8,8,8), (16,16,16), (32,32,32), (64,64,64), (128,128,128), (256,256,256)]\n",
    "number_neurons_three_accuracies = []\n",
    "for n in number_neurons:\n",
    "    accuracies = nn_cross_validate(n, 6)\n",
    "    mean_accuracy = np.mean(accuracies)\n",
    "    number_neurons_three_accuracies.append(mean_accuracy)\n",
    "    \n",
    "#Plotting the results\n",
    "plt.figure(figsize=(12,4))\n",
    "x = [8, 16, 32, 64, 128, 256]\n",
    "plt.plot(x, number_neurons_three_accuracies)\n",
    "plt.xticks(x)\n",
    "plt.yticks(np.arange(0.84, 0.98, 0.02))\n",
    "plt.title(\"Accuracy vs Neurons in 3 Hidden Layers\")\n",
    "plt.show()  "
   ]
  },
  {
   "cell_type": "code",
   "execution_count": 107,
   "metadata": {},
   "outputs": [
    {
     "data": {
      "text/plain": [
       "[0.8842679301374953,\n",
       " 0.9154180602006688,\n",
       " 0.9393459680416202,\n",
       " 0.953253437383872,\n",
       " 0.9593645484949834,\n",
       " 0.9616164994425863]"
      ]
     },
     "execution_count": 107,
     "metadata": {},
     "output_type": "execute_result"
    }
   ],
   "source": [
    "#Showing the accuracy as the number of neurons per layer changes\n",
    "number_neurons_three_accuracies"
   ]
  },
  {
   "cell_type": "markdown",
   "metadata": {},
   "source": [
    "### Train and Test Sets Performance Comparison"
   ]
  },
  {
   "cell_type": "code",
   "execution_count": 108,
   "metadata": {},
   "outputs": [
    {
     "data": {
      "image/png": "[encoded data removed]",
      "text/plain": [
       "<Figure size 864x288 with 1 Axes>"
      ]
     },
     "metadata": {
      "needs_background": "light"
     },
     "output_type": "display_data"
    }
   ],
   "source": [
    "#Creating a list that contains the mean accuracies as the number of neurons changes\n",
    "number_neurons = [(8,8,8), (16,16,16), (32,32,32), (64,64,64), (128,128,128), (256,256,256)]\n",
    "avg_score_train = []\n",
    "avg_score_test = []\n",
    "for n in number_neurons:\n",
    "    train_accuracies, test_accuracies = train_vs_test_score(n, 6)\n",
    "    train_mean_accuracy = np.mean(train_accuracies)\n",
    "    test_mean_accuracy = np.mean(test_accuracies)\n",
    "    avg_score_train.append(train_mean_accuracy)\n",
    "    avg_score_test.append(test_mean_accuracy)\n",
    "    \n",
    "#Plotting the results\n",
    "plt.figure(figsize=(12,4))\n",
    "x = [8, 16, 32, 64, 128, 256]\n",
    "train_line = plt.plot(x, avg_score_train, label = \"train\")\n",
    "test_line = plt.plot(x, avg_score_test, label = \"test\")\n",
    "plt.xticks(x)\n",
    "plt.yticks(np.arange(0.84, 1.00, 0.02))\n",
    "plt.title(\"Train vs Test scores (3 Hidden Layers)\")\n",
    "plt.legend(handles=[train_line[0], test_line[0]], loc= \"lower right\")\n",
    "plt.show()  "
   ]
  },
  {
   "cell_type": "code",
   "execution_count": 109,
   "metadata": {},
   "outputs": [
    {
     "data": {
      "text/plain": [
       "[0.9993321459712184, 1.0, 1.0, 1.0, 1.0, 1.0]"
      ]
     },
     "execution_count": 109,
     "metadata": {},
     "output_type": "execute_result"
    }
   ],
   "source": [
    "#Showing the results for the train set\n",
    "avg_score_train"
   ]
  },
  {
   "cell_type": "code",
   "execution_count": 110,
   "metadata": {},
   "outputs": [
    {
     "data": {
      "text/plain": [
       "[0.8836863619472314,\n",
       " 0.9259791898922334,\n",
       " 0.943240431066518,\n",
       " 0.9404570791527314,\n",
       " 0.9616109253065774,\n",
       " 0.962166480862133]"
      ]
     },
     "execution_count": 110,
     "metadata": {},
     "output_type": "execute_result"
    }
   ],
   "source": [
    "#Showing the results for the test set\n",
    "avg_score_test"
   ]
  },
  {
   "cell_type": "markdown",
   "metadata": {},
   "source": [
    "We can conclude that no overfitting occurs."
   ]
  },
  {
   "cell_type": "markdown",
   "metadata": {},
   "source": [
    "## Conclusion"
   ]
  },
  {
   "cell_type": "markdown",
   "metadata": {},
   "source": [
    "In this project we have trained and tested some different models. The **K-Nearest Neighbors** model performed very well with a top accuracy score of 0.9677 maybe because the testing set have high similarity with the training set, however there are some big limitations:\n",
    "\n",
    "* The model perform the best with k parameter equals to 1 and it seems that the performance cannot be improved since as soon as we increase k it gets worse.\n",
    "* High memory usage (for each new unseen observation, many comparisons need to be made to seen observation).\n",
    "* No model representation to debug and explore.\n",
    "\n",
    "The **Random Forest** model perform good as well, with a top accuracy score of 0.9432. This is a very good model which, in this particular case, perform slighlty worse than a neurla network with 3 hidden layer, although is much faster. In general we should decide, between a Random Forest and a Deep Neural Network model, based on the data type we have. We should use the neural network mainly for:\n",
    "\n",
    "* Images\n",
    "* Audio\n",
    "* Text\n",
    "\n",
    "If we are going to work with tabular data, it's worth to check the Random Forest first because it's easier.\n",
    "\n",
    "Now we'll analyze the **Neural Networks**' results. First of all let's plot the results as the number of neurons and hidden layers change."
   ]
  },
  {
   "cell_type": "code",
   "execution_count": 111,
   "metadata": {},
   "outputs": [
    {
     "data": {
      "image/png": "[encoded data removed]",
      "text/plain": [
       "<Figure size 864x288 with 1 Axes>"
      ]
     },
     "metadata": {
      "needs_background": "light"
     },
     "output_type": "display_data"
    }
   ],
   "source": [
    "#Plotting the results\n",
    "plt.figure(figsize=(12,4))\n",
    "x = [8, 16, 32, 64, 128, 256]\n",
    "one_hidden = plt.plot(x, number_neurons_accuracies, label = \"1 layer\")\n",
    "two_hidden = plt.plot(x, number_neurons_two_accuracies, label = \"2 layers\")\n",
    "three_hidden = plt.plot(x, number_neurons_three_accuracies, label = \"3 layers\")\n",
    "plt.xticks(x)\n",
    "plt.yticks(np.arange(0.84, 1.00, 0.02))\n",
    "plt.title(\"Performance Comparison\")\n",
    "plt.legend(handles=[one_hidden[0], two_hidden[0], three_hidden[0]], loc= \"lower right\")\n",
    "plt.show()  "
   ]
  },
  {
   "cell_type": "markdown",
   "metadata": {},
   "source": [
    "Comparing the Multi-Layer Perceptron Classifier models we can observe:\n",
    "\n",
    "* It seems there isn't linearity between performance and number of hidden layers, however there is a tendency to increase the performance score when incrementing the number of hidden layers or the number of neurons per layer.\n",
    "* When we use more than 64 neurons per layer there is no significant increase of the performance.\n",
    "* The best accuracy score is 0.9616 reached when using 3 hidden layers and 256 neurons confirming the fact that having more layers and more neurons tends to improve the performance."
   ]
  }
 ],
 "metadata": {
  "anaconda-cloud": {},
  "kernelspec": {
   "display_name": "Python 3",
   "language": "python",
   "name": "python3"
  },
  "language_info": {
   "codemirror_mode": {
    "name": "ipython",
    "version": 3
   },
   "file_extension": ".py",
   "mimetype": "text/x-python",
   "name": "python",
   "nbconvert_exporter": "python",
   "pygments_lexer": "ipython3",
   "version": "3.7.4"
  }
 },
 "nbformat": 4,
 "nbformat_minor": 2
}
