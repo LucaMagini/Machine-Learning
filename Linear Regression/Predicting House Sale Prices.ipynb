{
 "cells": [
  {
   "cell_type": "markdown",
   "metadata": {
    "collapsed": true
   },
   "source": [
    "# Predicting House Sale Prices"
   ]
  },
  {
   "cell_type": "markdown",
   "metadata": {
    "collapsed": true
   },
   "source": [
    "In this project our aim is to predict house sale prices using the linear regression model. We'll fit the model using two different approaches and use some techniques for cleaning, transforming and selecting features."
   ]
  },
  {
   "cell_type": "markdown",
   "metadata": {},
   "source": [
    "## Introduction"
   ]
  },
  {
   "cell_type": "markdown",
   "metadata": {},
   "source": [
    "We'll work with housing data for the city of Ames, Iowa, United States of America from 2006 to 2010. You can read about the different columns in the data [here](https://s3.amazonaws.com/dq-content/307/data_description.txt).\n",
    "\n",
    "First of all we'll create some functions to select and transform features and to train and test the model. This way, we can use them  as a basis for experimenting and updating the functions. "
   ]
  },
  {
   "cell_type": "code",
   "execution_count": 58,
   "metadata": {
    "collapsed": true
   },
   "outputs": [],
   "source": [
    "#Importing the libraries\n",
    "import numpy as np\n",
    "import pandas as pd\n",
    "import matplotlib.pyplot as plt\n",
    "import seaborn as sns\n",
    "\n",
    "from sklearn.metrics import mean_squared_error\n",
    "from sklearn.linear_model import LinearRegression\n",
    "from sklearn.model_selection import KFold\n",
    "\n",
    "pd.options.display.max_columns = 100"
   ]
  },
  {
   "cell_type": "code",
   "execution_count": 59,
   "metadata": {
    "collapsed": true
   },
   "outputs": [],
   "source": [
    "#Reading the data into a dataframe\n",
    "house = pd.read_csv(\"AmesHousing.tsv\", delimiter=\"\\t\")"
   ]
  },
  {
   "cell_type": "code",
   "execution_count": 60,
   "metadata": {
    "collapsed": false
   },
   "outputs": [
    {
     "data": {
      "text/plain": [
       "57088.25161263909"
      ]
     },
     "execution_count": 60,
     "metadata": {},
     "output_type": "execute_result"
    }
   ],
   "source": [
    "#Creating the function to transform the features\n",
    "def transform_features(df):\n",
    "    return df\n",
    "\n",
    "#Creating the function to select the features\n",
    "def select_features(df):\n",
    "    return df[[\"Gr Liv Area\", \"SalePrice\"]]\n",
    "\n",
    "#Creating the function to make predictions\n",
    "def train_and_test(df):\n",
    "    train = df[:1460]\n",
    "    test = df[1460:]\n",
    "    \n",
    "    numeric_train = train.select_dtypes(include=[\"int\", \"float\"])\n",
    "    numeric_test = test.select_dtypes(include=[\"int\", \"float\"])\n",
    "    \n",
    "    features = numeric_train.columns.drop([\"SalePrice\"])\n",
    "    lr = LinearRegression()\n",
    "    lr.fit(train[features], train[\"SalePrice\"])\n",
    "    predictions = lr.predict(test[features])\n",
    "    rmse = mean_squared_error(test[\"SalePrice\"], predictions) ** (1/2)\n",
    "    \n",
    "    return rmse\n",
    "\n",
    "#Computing the rmse \n",
    "transform_house = transform_features(house)\n",
    "filtered_house = select_features(transform_house)\n",
    "rmse = train_and_test(filtered_house)\n",
    "\n",
    "#Showing the result\n",
    "rmse"
   ]
  },
  {
   "cell_type": "markdown",
   "metadata": {},
   "source": [
    "## Feature Engineering"
   ]
  },
  {
   "cell_type": "markdown",
   "metadata": {},
   "source": [
    "Now we'll update the *transform_features* function. In general, the goal of this function is to:\n",
    "\n",
    "* **Remove** features that we don't want to use in the model, just based on the number on missing values or data leakage.\n",
    "* **Transform** feautures into the proper format (numerical to categorical, scaling numerical, filling in missing values, etc).\n",
    "* **Create** new features by combining other features.\n",
    "\n",
    "Let's drop any column with more than 5% of missing values."
   ]
  },
  {
   "cell_type": "code",
   "execution_count": 61,
   "metadata": {
    "collapsed": false
   },
   "outputs": [],
   "source": [
    "#Finding the missing values\n",
    "missing = house.isnull().sum()\n",
    "\n",
    "#Filtering columns containing > 5% missing values\n",
    "drop_missing = missing[missing > len(house)/20]\n",
    "\n",
    "#Dropping those columns from the dataframe\n",
    "house = house.drop(drop_missing.index, axis=1)"
   ]
  },
  {
   "cell_type": "markdown",
   "metadata": {},
   "source": [
    "Now we'll remove any text column with one or more missing values."
   ]
  },
  {
   "cell_type": "code",
   "execution_count": 62,
   "metadata": {
    "collapsed": true
   },
   "outputs": [],
   "source": [
    "#Finding the missing values\n",
    "text_missing = house.select_dtypes(include=[\"object\"]).isnull().sum()\n",
    "\n",
    "#Filtering columns with at least 1 missing value\n",
    "drop_text = text_missing[text_missing > 0]\n",
    "\n",
    "#Dropping those columns from the dataframe\n",
    "house = house.drop(drop_text.index, axis=1)"
   ]
  },
  {
   "cell_type": "markdown",
   "metadata": {},
   "source": [
    "Let's fill the most common value in the numerical colums."
   ]
  },
  {
   "cell_type": "code",
   "execution_count": 63,
   "metadata": {
    "collapsed": false
   },
   "outputs": [
    {
     "data": {
      "text/plain": [
       "Mas Vnr Area      23\n",
       "BsmtFin SF 1       1\n",
       "BsmtFin SF 2       1\n",
       "Bsmt Unf SF        1\n",
       "Total Bsmt SF      1\n",
       "Bsmt Full Bath     2\n",
       "Bsmt Half Bath     2\n",
       "Garage Cars        1\n",
       "Garage Area        1\n",
       "dtype: int64"
      ]
     },
     "execution_count": 63,
     "metadata": {},
     "output_type": "execute_result"
    }
   ],
   "source": [
    "#Compute the missing value count\n",
    "numerical_missing = house.select_dtypes(include=[\"int\", \"float\"]).isnull().sum()\n",
    "numerical_missing = numerical_missing[(numerical_missing < len(house)/20) & (numerical_missing > 0)]\n",
    "numerical_missing"
   ]
  },
  {
   "cell_type": "code",
   "execution_count": 64,
   "metadata": {
    "collapsed": false
   },
   "outputs": [
    {
     "data": {
      "text/plain": [
       "{'Bsmt Full Bath': 0.0,\n",
       " 'Bsmt Half Bath': 0.0,\n",
       " 'Bsmt Unf SF': 0.0,\n",
       " 'BsmtFin SF 1': 0.0,\n",
       " 'BsmtFin SF 2': 0.0,\n",
       " 'Garage Area': 0.0,\n",
       " 'Garage Cars': 2.0,\n",
       " 'Mas Vnr Area': 0.0,\n",
       " 'Total Bsmt SF': 0.0}"
      ]
     },
     "execution_count": 64,
     "metadata": {},
     "output_type": "execute_result"
    }
   ],
   "source": [
    "#Finding the most common value for each column in numerical_missing\n",
    "mode_values = house[numerical_missing.index].mode()\n",
    "mode_values = mode_values.to_dict(\"records\")[0]\n",
    "mode_values"
   ]
  },
  {
   "cell_type": "code",
   "execution_count": 65,
   "metadata": {
    "collapsed": false
   },
   "outputs": [
    {
     "data": {
      "text/plain": [
       "0    64\n",
       "dtype: int64"
      ]
     },
     "execution_count": 65,
     "metadata": {},
     "output_type": "execute_result"
    }
   ],
   "source": [
    "#Replacing missing values\n",
    "house = house.fillna(mode_values)\n",
    "\n",
    "#Checking the missing values\n",
    "house.isnull().sum().value_counts()"
   ]
  },
  {
   "cell_type": "markdown",
   "metadata": {},
   "source": [
    "Now we'll create a new feature that better capture the information in some of the features."
   ]
  },
  {
   "cell_type": "code",
   "execution_count": 66,
   "metadata": {
    "collapsed": false
   },
   "outputs": [
    {
     "name": "stdout",
     "output_type": "stream",
     "text": [
      "2180   -1\n",
      "Name: Years Before Sale, dtype: int64 \n",
      "\n",
      "1702   -1\n",
      "2180   -2\n",
      "2181   -1\n",
      "Name: Years Since Remod, dtype: int64\n"
     ]
    }
   ],
   "source": [
    "#Create new columns\n",
    "house[\"Years Before Sale\"] = house[\"Yr Sold\"] - house[\"Year Built\"]\n",
    "house[\"Years Since Remod\"] = house[\"Yr Sold\"] - house[\"Year Remod/Add\"]\n",
    "\n",
    "#Selecting row with negative values\n",
    "print(house[\"Years Before Sale\"][house[\"Years Before Sale\"] < 0], \"\\n\")\n",
    "print(house[\"Years Since Remod\"][house[\"Years Since Remod\"] < 0])"
   ]
  },
  {
   "cell_type": "code",
   "execution_count": 67,
   "metadata": {
    "collapsed": true
   },
   "outputs": [],
   "source": [
    "#Removing these rows\n",
    "house = house.drop([1702, 2180, 2181], axis=0)\n",
    "\n",
    "#Removing the original years columns\n",
    "house = house.drop([\"Year Built\", \"Year Remod/Add\"], axis=1)"
   ]
  },
  {
   "cell_type": "markdown",
   "metadata": {},
   "source": [
    "Now we'll drop any column that isn't useful for Machine Learning and any column that leak data about the final sale."
   ]
  },
  {
   "cell_type": "code",
   "execution_count": 68,
   "metadata": {
    "collapsed": false
   },
   "outputs": [],
   "source": [
    "## Drop columns that aren't useful for ML\n",
    "house = house.drop([\"PID\", \"Order\"], axis=1)\n",
    "\n",
    "## Drop columns that leak info about the final sale\n",
    "house = house.drop([\"Sale Type\", \"Mo Sold\", \"Sale Condition\"], axis=1)"
   ]
  },
  {
   "cell_type": "markdown",
   "metadata": {},
   "source": [
    "Let's update the function *transform_features* with the changes defined above."
   ]
  },
  {
   "cell_type": "code",
   "execution_count": 69,
   "metadata": {
    "collapsed": false
   },
   "outputs": [
    {
     "data": {
      "text/plain": [
       "55275.36731241307"
      ]
     },
     "execution_count": 69,
     "metadata": {},
     "output_type": "execute_result"
    }
   ],
   "source": [
    "def transform_features(df):\n",
    "    missing = df.isnull().sum()\n",
    "    drop_missing = missing[missing > len(df)/20]\n",
    "    df = df.drop(drop_missing.index, axis=1)\n",
    "    \n",
    "    text_missing = df.select_dtypes(include=[\"object\"]).isnull().sum()\n",
    "    drop_text = text_missing[text_missing > 0]\n",
    "    df = df.drop(drop_text.index, axis=1)\n",
    "    \n",
    "    numerical_missing = df.select_dtypes(include=[\"int\", \"float\"]).isnull().sum()\n",
    "    numerical_missing = numerical_missing[(numerical_missing < len(df)/20) & (numerical_missing > 0)]\n",
    "    mode_values = df[numerical_missing.index].mode()\n",
    "    mode_values = mode_values.to_dict(\"records\")[0]\n",
    "    df = df.fillna(mode_values)\n",
    "    \n",
    "    df[\"Years Before Sale\"] = df[\"Yr Sold\"] - df[\"Year Built\"]\n",
    "    df[\"Years Since Remod\"] = df[\"Yr Sold\"] - df[\"Year Remod/Add\"]\n",
    "    df = df.drop([1702, 2180, 2181], axis=0)\n",
    "    \n",
    "    df = df.drop([\"Year Built\", \"Year Remod/Add\", \"PID\", \"Order\",\"Sale Type\", \"Mo Sold\", \"Sale Condition\"], axis=1)\n",
    "    return df\n",
    "\n",
    "def select_features(df):\n",
    "    return df[[\"Gr Liv Area\", \"SalePrice\"]]\n",
    "\n",
    "def train_and_test(df):\n",
    "    train = df[:1460]\n",
    "    test = df[1460:]\n",
    "    \n",
    "    numeric_train = train.select_dtypes(include=[\"int\", \"float\"])\n",
    "    numeric_test = test.select_dtypes(include=[\"int\", \"float\"])\n",
    "    \n",
    "    features = numeric_train.columns.drop([\"SalePrice\"])\n",
    "    lr = LinearRegression()\n",
    "    lr.fit(train[features], train[\"SalePrice\"])\n",
    "    predictions = lr.predict(test[features])\n",
    "    rmse = mean_squared_error(test[\"SalePrice\"], predictions) ** (1/2)\n",
    "    \n",
    "    return rmse\n",
    "\n",
    "house = pd.read_csv(\"AmesHousing.tsv\", delimiter=\"\\t\")\n",
    "transform_house = transform_features(house)\n",
    "filtered_house = select_features(transform_house)\n",
    "rmse = train_and_test(filtered_house)\n",
    "\n",
    "rmse"
   ]
  },
  {
   "cell_type": "markdown",
   "metadata": {},
   "source": [
    "## Feature Selection"
   ]
  },
  {
   "cell_type": "markdown",
   "metadata": {},
   "source": [
    "Now that we've cleaned and transformed a lot of the features in tha data set, it's time to move on to feature selection for numerical features. Let's start considering which features are strongly correlated with our target column."
   ]
  },
  {
   "cell_type": "code",
   "execution_count": 70,
   "metadata": {
    "collapsed": false
   },
   "outputs": [
    {
     "data": {
      "text/plain": [
       "<matplotlib.axes._subplots.AxesSubplot at 0x7f8f4d5fe978>"
      ]
     },
     "execution_count": 70,
     "metadata": {},
     "output_type": "execute_result"
    },
    {
     "data": {
      "image/png": "[encoded data removed]",
      "text/plain": [
       "<matplotlib.figure.Figure at 0x7f8f4f30e550>"
      ]
     },
     "metadata": {},
     "output_type": "display_data"
    }
   ],
   "source": [
    "#Selecting numerical columns\n",
    "numerical = transform_house.select_dtypes([\"int\", \"float\"])\n",
    "\n",
    "#Creating a heatmap of the correlations\n",
    "%matplotlib inline\n",
    "plt.figure(figsize=(12, 8))\n",
    "sns.heatmap(numerical.corr(), cmap=\"Blues\")"
   ]
  },
  {
   "cell_type": "code",
   "execution_count": 71,
   "metadata": {
    "collapsed": false
   },
   "outputs": [
    {
     "data": {
      "text/plain": [
       "BsmtFin SF 2         0.006127\n",
       "Misc Val             0.019273\n",
       "Yr Sold              0.030358\n",
       "3Ssn Porch           0.032268\n",
       "Bsmt Half Bath       0.035875\n",
       "Low Qual Fin SF      0.037629\n",
       "Pool Area            0.068438\n",
       "MS SubClass          0.085128\n",
       "Overall Cond         0.101540\n",
       "Screen Porch         0.112280\n",
       "Kitchen AbvGr        0.119760\n",
       "Enclosed Porch       0.128685\n",
       "Bedroom AbvGr        0.143916\n",
       "Bsmt Unf SF          0.182751\n",
       "Lot Area             0.267520\n",
       "2nd Flr SF           0.269601\n",
       "Bsmt Full Bath       0.276258\n",
       "Half Bath            0.284871\n",
       "Open Porch SF        0.316262\n",
       "Wood Deck SF         0.328183\n",
       "BsmtFin SF 1         0.439284\n",
       "Fireplaces           0.474831\n",
       "TotRms AbvGrd        0.498574\n",
       "Mas Vnr Area         0.506983\n",
       "Years Since Remod    0.534985\n",
       "Full Bath            0.546118\n",
       "Years Before Sale    0.558979\n",
       "1st Flr SF           0.635185\n",
       "Garage Area          0.641425\n",
       "Total Bsmt SF        0.644012\n",
       "Garage Cars          0.648361\n",
       "Gr Liv Area          0.717596\n",
       "Overall Qual         0.801206\n",
       "SalePrice            1.000000\n",
       "Name: SalePrice, dtype: float64"
      ]
     },
     "execution_count": 71,
     "metadata": {},
     "output_type": "execute_result"
    }
   ],
   "source": [
    "#Computing the correlations with our target column\n",
    "abs_corr = numerical.corr()[\"SalePrice\"].abs().sort_values()\n",
    "abs_corr"
   ]
  },
  {
   "cell_type": "markdown",
   "metadata": {},
   "source": [
    "We'll only keep columns with a correlation coefficient larger than 0.4."
   ]
  },
  {
   "cell_type": "code",
   "execution_count": 72,
   "metadata": {
    "collapsed": false
   },
   "outputs": [],
   "source": [
    "#Dropping columns with a correlation coefficient < 0.4\n",
    "transform_house = transform_house.drop(abs_corr[abs_corr < 0.4].index, axis=1)"
   ]
  },
  {
   "cell_type": "markdown",
   "metadata": {},
   "source": [
    "At this point we'll looking for columns that are currently numerical but need to be encoded as categorical instead, since the number don't have any semantic meaning. We'll also keep only the categorical columns with a maximum of 10 unique values, since when we dummy code these columns, we need to add too many columns back to the dataframe."
   ]
  },
  {
   "cell_type": "code",
   "execution_count": 73,
   "metadata": {
    "collapsed": false
   },
   "outputs": [],
   "source": [
    "#Creating a list of categorical columns\n",
    "nominal = [\"MS SubClass\", \"MS Zoning\", \"Alley\", \"Land Contour\", \"Lot Config\", \"Neighborhood\", \n",
    "           \"Condition 1\", \"PID\", \"Condition 2\", \"Bldg Type\", \"House Style\", \"Roof Style\", \n",
    "           \"Roof Matl\", \"Exterior 1st\", \"Exterior \",\"Misc Feature\", \"Street\", \"Sale Type\", \"Sale Condition\"]\n",
    "\n",
    "#Choosing nominal columns in transform_house\n",
    "transform_col = []\n",
    "for column in nominal:\n",
    "    if column in transform_house.columns:\n",
    "        transform_col.append(column)\n",
    "\n",
    "#Dropping columns with more than 10 unique values\n",
    "counts = transform_house[transform_col].apply(lambda col: len(col.value_counts()))\n",
    "transform_house = transform_house.drop(counts[counts > 10].index, axis=1)\n",
    "\n",
    "#Converting the remaining text columns to categorical\n",
    "text = transform_house.select_dtypes(include=[\"object\"])\n",
    "for col in text:\n",
    "    transform_house[col] = transform_house[col].astype('category')\n",
    "\n",
    "#Creating dummy columns\n",
    "transform_house = pd.concat([transform_house, pd.get_dummies(transform_house.select_dtypes(include=['category']))], axis=1).drop(text,axis=1)"
   ]
  },
  {
   "cell_type": "markdown",
   "metadata": {},
   "source": [
    "## Train and Test"
   ]
  },
  {
   "cell_type": "markdown",
   "metadata": {},
   "source": [
    "The next step is to update the logic for the *select_features* function and we'll add a parameter named *k*, in the *train_and_test* function, that controls the type of cross validation that we want to perform."
   ]
  },
  {
   "cell_type": "code",
   "execution_count": 74,
   "metadata": {
    "collapsed": false
   },
   "outputs": [
    {
     "name": "stdout",
     "output_type": "stream",
     "text": [
      "[33232.23001600172, 33101.724276194815, 36988.90399938383, 40137.94818823223]\n"
     ]
    },
    {
     "data": {
      "text/plain": [
       "35865.20161995315"
      ]
     },
     "execution_count": 74,
     "metadata": {},
     "output_type": "execute_result"
    }
   ],
   "source": [
    "def transform_features(df):\n",
    "    missing = df.isnull().sum()\n",
    "    drop_missing = missing[missing > len(df)/20]\n",
    "    df = df.drop(drop_missing.index, axis=1)\n",
    "    \n",
    "    text_missing = df.select_dtypes(include=[\"object\"]).isnull().sum()\n",
    "    drop_text = text_missing[text_missing > 0]\n",
    "    df = df.drop(drop_text.index, axis=1)\n",
    "    \n",
    "    numerical_missing = df.select_dtypes(include=[\"int\", \"float\"]).isnull().sum()\n",
    "    numerical_missing = numerical_missing[(numerical_missing < len(df)/20) & (numerical_missing > 0)]\n",
    "    mode_values = df[numerical_missing.index].mode()\n",
    "    mode_values = mode_values.to_dict(\"records\")[0]\n",
    "    df = df.fillna(mode_values)\n",
    "    \n",
    "    df[\"Years Before Sale\"] = df[\"Yr Sold\"] - df[\"Year Built\"]\n",
    "    df[\"Years Since Remod\"] = df[\"Yr Sold\"] - df[\"Year Remod/Add\"]\n",
    "    df = df.drop([1702, 2180, 2181], axis=0)\n",
    "    \n",
    "    df = df.drop([\"Year Built\", \"Year Remod/Add\", \"PID\", \"Order\",\"Sale Type\", \"Mo Sold\", \"Sale Condition\"], axis=1)\n",
    "    return df\n",
    "\n",
    "def select_features(df, coeff_value=0.4, unique=10):\n",
    "    numerical = df.select_dtypes([\"int\", \"float\"])\n",
    "    abs_corr = numerical.corr()[\"SalePrice\"].abs().sort_values()\n",
    "    df = df.drop(abs_corr[abs_corr < coeff_value].index, axis=1)\n",
    "    \n",
    "    nominal = [\"MS SubClass\", \"MS Zoning\", \"Alley\", \"Land Contour\", \"Lot Config\", \"Neighborhood\", \n",
    "           \"Condition 1\", \"PID\", \"Condition 2\", \"Bldg Type\", \"House Style\", \"Roof Style\", \n",
    "           \"Roof Matl\", \"Exterior 1st\", \"Exterior \",\"Misc Feature\", \"Street\", \"Sale Type\", \"Sale Condition\"]\n",
    "\n",
    "    transform_col = []\n",
    "    for column in nominal:\n",
    "        if column in df.columns:\n",
    "            transform_col.append(column)\n",
    "\n",
    "    counts = df[transform_col].apply(lambda col: len(col.value_counts()))\n",
    "    df = df.drop(counts[counts > unique].index, axis=1)\n",
    "\n",
    "    text = df.select_dtypes(include=[\"object\"])\n",
    "    for col in text:\n",
    "        df[col] = df[col].astype('category')\n",
    "    df = pd.concat([df, pd.get_dummies(df.select_dtypes(include=['category']))], axis=1).drop(text,axis=1)\n",
    "    \n",
    "    return df\n",
    "\n",
    "def train_and_test(df, k=0):\n",
    "    numeric = df.select_dtypes(include=[\"int\", \"float\"])\n",
    "    features = numeric.columns.drop([\"SalePrice\"])\n",
    "    lr = LinearRegression()\n",
    "    \n",
    "    if k==0:\n",
    "        train = df[:1460]\n",
    "        test = df[1460:]\n",
    "        \n",
    "        lr.fit(train[features], train[\"SalePrice\"])\n",
    "        predictions = lr.predict(test[features])\n",
    "        rmse = mean_squared_error(test[\"SalePrice\"], predictions) ** (1/2)\n",
    "\n",
    "        return rmse\n",
    "    \n",
    "    if k==1:\n",
    "        shuffled = df.sample(frac=1, random_state=1 )\n",
    "        train = df[:1460]\n",
    "        test = df[1460:]\n",
    "        \n",
    "        lr.fit(train[features], train[\"SalePrice\"])\n",
    "        predictions_one = lr.predict(test[features])        \n",
    "        \n",
    "        rmse_one = (mean_squared_error(test[\"SalePrice\"], predictions_one)) ** (1/2)\n",
    "        \n",
    "        lr.fit(test[features], test[\"SalePrice\"])\n",
    "        predictions_two = lr.predict(train[features])        \n",
    "       \n",
    "        rmse_two = mean_squared_error(train[\"SalePrice\"], predictions_two) ** (1/2)\n",
    "        \n",
    "        avg_rmse = np.mean([rmse_one, rmse_two])\n",
    "        print(rmse_one)\n",
    "        print(rmse_two)\n",
    "        return avg_rmse\n",
    "    \n",
    "    else:\n",
    "        kf = KFold(n_splits=k, shuffle=True)\n",
    "        rmse_values = []\n",
    "        for train_index, test_index, in kf.split(df):\n",
    "            train = df.iloc[train_index]\n",
    "            test = df.iloc[test_index]\n",
    "            lr.fit(train[features], train[\"SalePrice\"])\n",
    "            predictions = lr.predict(test[features])\n",
    "            rmse = mean_squared_error(test[\"SalePrice\"], predictions) ** (1/2)\n",
    "            rmse_values.append(rmse)\n",
    "        print(rmse_values)\n",
    "        avg_rmse = np.mean(rmse_values)\n",
    "        return avg_rmse\n",
    "\n",
    "house = pd.read_csv(\"AmesHousing.tsv\", delimiter=\"\\t\")\n",
    "transform_house = transform_features(house)\n",
    "filtered_house = select_features(transform_house)\n",
    "rmse = train_and_test(filtered_house, k=4)\n",
    "\n",
    "rmse"
   ]
  }
 ],
 "metadata": {
  "anaconda-cloud": {},
  "kernelspec": {
   "display_name": "Python 3",
   "language": "python",
   "name": "python3"
  },
  "language_info": {
   "codemirror_mode": {
    "name": "ipython",
    "version": 3
   },
   "file_extension": ".py",
   "mimetype": "text/x-python",
   "name": "python",
   "nbconvert_exporter": "python",
   "pygments_lexer": "ipython3",
   "version": "3.4.3"
  }
 },
 "nbformat": 4,
 "nbformat_minor": 2
}
